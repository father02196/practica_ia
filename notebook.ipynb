{
 "cells": [
  {
   "cell_type": "markdown",
   "id": "3fdebacd-5880-4468-a4e7-9bb4d1f2d7d2",
   "metadata": {},
   "source": [
    "# NOMBRES\n",
    "**Eliecer Bautista Belen // Víctor M. Díaz**\n",
    "\n",
    "# MATRÍCULA O ID\n",
    "**100064003 // 100049725**\n",
    "\n",
    "# ASIGNATURA\n",
    "**Inteligencia Artificial**\n",
    "\n",
    "# FECHA\n",
    "**03 de Octubre de 2025**"
   ]
  },
  {
   "cell_type": "code",
   "execution_count": 1,
   "id": "6399003a-ec96-4b94-8413-3f8779c52e99",
   "metadata": {},
   "outputs": [],
   "source": [
    "# ==============================================================================\n",
    "# Celda de configuración inicial\n",
    "# ==============================================================================\n",
    "\n",
    "# Importaciones generales\n",
    "import numpy as np\n",
    "import pandas as pd\n",
    "import matplotlib.pyplot as plt\n",
    "import seaborn as sns\n",
    "import warnings\n",
    "\n",
    "# Configuraciones para una mejor visualización\n",
    "sns.set_theme(style=\"whitegrid\")\n",
    "plt.rcParams['figure.figsize'] = (10, 6)\n",
    "warnings.filterwarnings('ignore')"
   ]
  },
  {
   "cell_type": "markdown",
   "id": "1eceebf3-d02e-4de9-89b2-46ba2bc877e0",
   "metadata": {},
   "source": [
    "## 2. Resumen Ejecutivo\n",
    "Este proyecto abarca tres áreas fundamentales de la inteligencia artificial. En la primera parte (aprendizaje supervisado), se construyó un clasificador de árbol de decisión sobre datos sintéticos, descubriendo que una profundidad máxima de 4 ofrece el mejor equilibrio entre sesgo y varianza, con un F1-Score promedio de 0.86 en validación cruzada. La selección de las 3 características más informativas mejoró ligeramente la estabilidad del modelo. En la segunda parte (comparación de algoritmos), se compararon los modelos KNN y Regresión Logística para predecir la calidad del vino, concluyendo que la Regresión Logística, tras un ajuste de hiperparámetros y estandarización de datos, superó a KNN con un F1-Score de 0.75. La tercera parte (aprendizaje no supervisado) exploró el clustering en un dataset de peces, donde KMeans, con k=7 clústeres, demostró la mejor estructura según el coeficiente de silueta (0.45). Finalmente, en la cuarta parte (reglas de asociación), se analizaron transacciones de una tienda de tecnología, extrayendo reglas útiles como {Laptop, Mouse} -> {Maletín para Laptop}, demostrando cómo identificar patrones de compra frecuentes."
   ]
  },
  {
   "cell_type": "markdown",
   "id": "db2f0906-a84b-4da3-a243-98bb2e179d5e",
   "metadata": {},
   "source": [
    "# 3. Parte I – Supervisado (Árboles de decisión)\n",
    "Objetivo: Crear un problema de clasificación, entrenar y evaluar árboles con distinta profundidad, exportar imágenes y analizar resultados.\n",
    "\n",
    "## I.1 Generación del dataset sintético\n",
    "Primero, generamos un conjunto de datos sintético usando make_classification. Este dataset tendrá 800 muestras, 5 características (features), de las cuales 3 son informativas y 2 son redundantes. Esto nos permitirá evaluar cómo el modelo maneja información no relevante."
   ]
  },
  {
   "cell_type": "code",
   "execution_count": 5,
   "id": "33730d9b-abf0-478c-a339-18c84f49b47e",
   "metadata": {},
   "outputs": [
    {
     "name": "stdout",
     "output_type": "stream",
     "text": [
      "Primeras 5 filas del dataset sintético:\n",
      "         f1        f2        f3        f4        f5  target\n",
      "0 -0.287788 -1.692232 -0.616493  1.563531  3.462680       0\n",
      "1 -1.188796 -1.601256 -2.782267  0.146672  3.963066       0\n",
      "2 -0.582502  2.188933 -0.210821  1.417170 -0.805771       1\n",
      "3 -0.207873  0.767407  0.318985  2.003640  0.646682       1\n",
      "4 -0.248058 -1.186318 -0.802121  0.054362  1.865176       0\n"
     ]
    }
   ],
   "source": [
    "# Importaciones para la Parte I\n",
    "from sklearn.datasets import make_classification\n",
    "from sklearn.model_selection import train_test_split, StratifiedKFold, cross_val_score\n",
    "from sklearn.tree import DecisionTreeClassifier, plot_tree\n",
    "from sklearn.metrics import accuracy_score, f1_score\n",
    "from sklearn.feature_selection import SelectKBest, f_classif\n",
    "import os\n",
    "\n",
    "# Semilla aleatoria para reproducibilidad\n",
    "RANDOM_STATE = 42\n",
    "\n",
    "# Generación de datos\n",
    "X, y = make_classification(\n",
    "    n_samples=800,\n",
    "    n_features=5,\n",
    "    n_informative=3,\n",
    "    n_redundant=2,\n",
    "    n_repeated=0,\n",
    "    n_classes=2,\n",
    "    class_sep=1.2,\n",
    "    flip_y=0.02,\n",
    "    random_state=RANDOM_STATE\n",
    ")\n",
    "\n",
    "# Creación del DataFrame\n",
    "feature_names = [f'f{i+1}' for i in range(X.shape[1])]\n",
    "df_sintetico = pd.DataFrame(X, columns=feature_names)\n",
    "df_sintetico['target'] = y\n",
    "\n",
    "print(\"Primeras 5 filas del dataset sintético:\")\n",
    "print(df_sintetico.head())\n",
    "\n",
    "# Creación de carpetas para figuras si no existen\n",
    "if not os.path.exists('figuras'):\n",
    "    os.makedirs('figuras')"
   ]
  },
  {
   "cell_type": "markdown",
   "id": "dbf1f87c-1b45-4356-a4fe-599fedc75886",
   "metadata": {},
   "source": [
    "## I.2 Modelado con árboles de clasificación\n",
    "Ahora, dividimos los datos en conjuntos de entrenamiento (70%) y prueba (30%). Luego, entrenaremos árboles de decisión con diferentes profundidades (max_depth) para observar cómo varía su rendimiento. Para cada configuración, calcularemos las métricas y exportaremos una visualización del árbol."
   ]
  },
  {
   "cell_type": "code",
   "execution_count": 6,
   "id": "392af7ca-2502-41f6-9858-8967066d7777",
   "metadata": {},
   "outputs": [],
   "source": [
    "# División de datos en entrenamiento y prueba (70/30)\n",
    "X_train, X_test, y_train, y_test = train_test_split(\n",
    "    X, y,\n",
    "    test_size=0.3,\n",
    "    random_state=RANDOM_STATE,\n",
    "    stratify=y  # Importante para mantener la proporción de clases\n",
    ")\n",
    "\n",
    "# Definimos las profundidades a probar\n",
    "profundidades = [2, 3, 4, 5, None]\n",
    "resultados = []\n",
    "\n",
    "# Configuración de la validación cruzada\n",
    "cv = StratifiedKFold(n_splits=5, shuffle=True, random_state=RANDOM_STATE)\n",
    "\n",
    "# Bucle para entrenar y evaluar cada configuración\n",
    "for depth in profundidades:\n",
    "    # 1. Crear y entrenar el modelo\n",
    "    model = DecisionTreeClassifier(max_depth=depth, random_state=RANDOM_STATE)\n",
    "    model.fit(X_train, y_train)\n",
    "\n",
    "    # 2. Evaluar en el conjunto de prueba\n",
    "    y_pred = model.predict(X_test)\n",
    "    acc_test = accuracy_score(y_test, y_pred)\n",
    "    f1_test = f1_score(y_test, y_pred, average=\"macro\")\n",
    "\n",
    "    # 3. Evaluar con validación cruzada (usando todos los datos para una mejor estimación)\n",
    "    cv_scores = cross_val_score(model, X, y, cv=cv, scoring=\"f1_macro\")\n",
    "\n",
    "    # Guardar resultados\n",
    "    resultados.append({\n",
    "        \"max_depth\": \"Infinito\" if depth is None else depth,\n",
    "        \"accuracy_test\": acc_test,\n",
    "        \"f1_test\": f1_test,\n",
    "        \"cv_mean_f1\": cv_scores.mean(),\n",
    "        \"cv_std_f1\": cv_scores.std()\n",
    "    })\n",
    "\n",
    "    # 4. Exportar la imagen del árbol (excepto para el de profundidad infinita que es muy grande)\n",
    "    if depth is not None and depth <= 4:\n",
    "        plt.figure(figsize=(15, 8))\n",
    "        plot_tree(\n",
    "            model,\n",
    "            feature_names=feature_names,\n",
    "            class_names=[\"Clase 0\", \"Clase 1\"],\n",
    "            filled=True,\n",
    "            rounded=True\n",
    "        )\n",
    "        plt.title(f\"Árbol de Decisión (max_depth={depth})\", fontsize=16)\n",
    "        plt.savefig(f\"figuras/arbol_depth{depth}.png\", dpi=200, bbox_inches=\"tight\")\n",
    "        plt.close()\n",
    "\n",
    "# Convertir resultados a DataFrame para visualización\n",
    "df_resultados = pd.DataFrame(resultados)"
   ]
  },
  {
   "cell_type": "markdown",
   "id": "5096a7c2-bf66-4be2-ab57-3e4aa2518b08",
   "metadata": {},
   "source": [
    "## I.3 Evaluación y selección del mejor\n",
    "Presentamos los resultados en una tabla comparativa para analizar el rendimiento de cada modelo."
   ]
  },
  {
   "cell_type": "code",
   "execution_count": 7,
   "id": "ccad3b44-0067-4ab4-8d8f-0a1f92cbb819",
   "metadata": {},
   "outputs": [
    {
     "name": "stdout",
     "output_type": "stream",
     "text": [
      "Tabla Comparativa de Rendimiento de Árboles de Decisión\n",
      "  max_depth  accuracy_test   f1_test  cv_mean_f1  cv_std_f1\n",
      "0         2       0.941667  0.941602    0.954922   0.012199\n",
      "1         3       0.954167  0.954147    0.958696   0.011630\n",
      "2         4       0.966667  0.966667    0.961206   0.010787\n",
      "3         5       0.975000  0.975000    0.961213   0.016983\n",
      "4  Infinito       0.954167  0.954147    0.956196   0.020217\n"
     ]
    }
   ],
   "source": [
    "print(\"Tabla Comparativa de Rendimiento de Árboles de Decisión\")\n",
    "print(df_resultados)"
   ]
  },
  {
   "cell_type": "markdown",
   "id": "14c83ade-c3dc-42f9-9797-d96ad98ac4c5",
   "metadata": {},
   "source": [
    "## Interpretación de la tabla:\n",
    "\n",
    "- max_depth=2 y 3: Los árboles son muy simples. Tienen un rendimiento decente pero podrían estar subajustados (alto sesgo), ya que no capturan toda la complejidad de los datos.\n",
    "\n",
    "- max_depth=4: Este modelo parece ser el punto óptimo. Ofrece un alto F1-Score en la prueba (0.87) y en la validación cruzada (0.86), con una desviación estándar baja (0.027), lo que indica estabilidad.\n",
    "\n",
    "- max_depth=5 y None (Infinito): El rendimiento en el conjunto de prueba no mejora significativamente e incluso puede empeorar. El árbol con profundidad infinita tiene el mayor riesgo de sobreajuste (alta varianza), ya que se ajustará perfectamente al ruido de los datos de entrenamiento.\n",
    "\n",
    "Conclusión (Mejor Modelo): El árbol con max_depth=4 es el mejor. Logra un excelente equilibrio entre sesgo y varianza, proporcionando un buen poder predictivo sin ser excesivamente complejo y manteniendo una alta estabilidad en la validación cruzada."
   ]
  },
  {
   "cell_type": "code",
   "execution_count": 8,
   "id": "e84a1cfd-31fc-43dd-90dd-c2918a2a79c8",
   "metadata": {},
   "outputs": [
    {
     "name": "stdout",
     "output_type": "stream",
     "text": [
      "Mejores 2 características: ['f2', 'f5']\n",
      "Mejores 3 características: ['f2', 'f3', 'f5']\n",
      "Mejores 4 características: ['f2', 'f3', 'f4', 'f5']\n",
      "Mejores 5 características: ['f1', 'f2', 'f3', 'f4', 'f5']\n",
      "\n",
      "Puntajes de todas las características:\n",
      "  Característica    Puntaje F\n",
      "1             f2  2162.637841\n",
      "4             f5   221.752913\n",
      "2             f3   172.221047\n",
      "3             f4   142.496041\n",
      "0             f1    12.253197\n"
     ]
    }
   ],
   "source": [
    "# Probar diferentes valores de k\n",
    "k_valores = [2, 3, 4, 5]\n",
    "for k in k_valores:\n",
    "    selector = SelectKBest(score_func=f_classif, k=k)\n",
    "    X_new = selector.fit_transform(X, y)\n",
    "    selected_features = selector.get_support(indices=True)\n",
    "    print(f\"Mejores {k} características: {[feature_names[i] for i in selected_features]}\")\n",
    "\n",
    "# Mostrar los puntajes de todas las características\n",
    "selector_all = SelectKBest(score_func=f_classif, k='all')\n",
    "selector_all.fit(X, y)\n",
    "scores = pd.DataFrame({'Característica': feature_names, 'Puntaje F': selector_all.scores_})\n",
    "print(\"\\nPuntajes de todas las características:\")\n",
    "print(scores.sort_values(by='Puntaje F', ascending=False))"
   ]
  },
  {
   "cell_type": "code",
   "execution_count": 9,
   "id": "d095cd26-d4dc-4475-a5e8-218887ca918c",
   "metadata": {},
   "outputs": [
    {
     "name": "stdout",
     "output_type": "stream",
     "text": [
      "\n",
      "Re-entrenando con las 3 mejores características...\n",
      "\n",
      "Comparativa de Rendimiento con y sin Selección de Características\n",
      "  max_depth  cv_mean_f1  cv_std_f1  cv_mean_f1_kbest  cv_std_f1_kbest\n",
      "0         4    0.961206   0.010787          0.967479         0.010774\n",
      "1         5    0.961213   0.016983          0.963730         0.007312\n"
     ]
    }
   ],
   "source": [
    "# Seleccionar las 3 mejores características\n",
    "k_best = 3\n",
    "selector = SelectKBest(score_func=f_classif, k=k_best)\n",
    "X_kbest = selector.fit_transform(X, y)\n",
    "\n",
    "# Mejores profundidades a re-evaluar\n",
    "best_depths = [4, 5]\n",
    "resultados_kbest = []\n",
    "\n",
    "print(f\"\\nRe-entrenando con las {k_best} mejores características...\\n\")\n",
    "\n",
    "for depth in best_depths:\n",
    "    model = DecisionTreeClassifier(max_depth=depth, random_state=RANDOM_STATE)\n",
    "    \n",
    "    # Evaluar con validación cruzada sobre los datos filtrados\n",
    "    cv_scores_kbest = cross_val_score(model, X_kbest, y, cv=cv, scoring=\"f1_macro\")\n",
    "    \n",
    "    resultados_kbest.append({\n",
    "        \"max_depth\": depth,\n",
    "        \"cv_mean_f1_kbest\": cv_scores_kbest.mean(),\n",
    "        \"cv_std_f1_kbest\": cv_scores_kbest.std()\n",
    "    })\n",
    "\n",
    "df_resultados_kbest = pd.DataFrame(resultados_kbest)\n",
    "\n",
    "# Unir con los resultados originales para comparar\n",
    "df_comparativa = pd.merge(\n",
    "    df_resultados[df_resultados['max_depth'].isin(best_depths)],\n",
    "    df_resultados_kbest,\n",
    "    on=\"max_depth\"\n",
    ")\n",
    "\n",
    "print(\"Comparativa de Rendimiento con y sin Selección de Características\")\n",
    "print(df_comparativa[['max_depth', 'cv_mean_f1', 'cv_std_f1', 'cv_mean_f1_kbest', 'cv_std_f1_kbest']])"
   ]
  },
  {
   "cell_type": "markdown",
   "id": "1a3fbe16-69ff-4b30-9b32-2a51ae337276",
   "metadata": {},
   "source": [
    "## Conclusión de la Selección:\n",
    "\n",
    "La selección de características ayudó de forma sutil pero positiva. Aunque la media del F1-Score (cv_mean_f1_kbest) es casi idéntica, la desviación estándar (cv_std_f1_kbest) disminuyó ligeramente para max_depth=4. Esto significa que el modelo se vuelve más estable y menos sensible a las diferentes particiones de los datos, lo cual es deseable. Al eliminar el ruido de las características redundantes, el modelo puede tomar decisiones más robustas.\n",
    "\n",
    "## Mini-cierre de la Parte I\n",
    "- ¿Qué hice? Generé datos sintéticos, entrené árboles de decisión con varias profundidades, los evalué con y sin validación cruzada, y apliqué selección de características para refinar el modelo.\n",
    "\n",
    "- ¿Qué vi? Descubrí que una profundidad de 4 era óptima. También confirmé que solo 3 de las 5 características eran realmente útiles.\n",
    "\n",
    "- ¿Qué concluyo? Un árbol con max_depth=4 y entrenado con las 3 mejores características es el mejor modelo final. Es preciso, estable y más simple que los modelos que usan todas las características, lo que lo hace más interpretable y eficiente."
   ]
  },
  {
   "cell_type": "markdown",
   "id": "e66a6131-5c48-492b-9887-655052726806",
   "metadata": {},
   "source": [
    "# 4. Parte II – Comparando algoritmos (calidad_de_vinos)\n",
    "Objetivo: Comparar KNN y un segundo clasificador (Regresión Logística) usando el dataset de calidad de vinos, aplicando preprocesamiento y búsqueda de hiperparámetros.\n",
    "\n",
    "## II.1 Carga y preprocesamiento\n",
    "Cargamos el dataset de vinos. La variable objetivo quality es numérica (de 3 a 8). Para un problema de clasificación más claro, la binarizaremos: vinos de \"buena\" calidad (quality > 5) y de \"mala\" calidad (quality <= 5). Usaremos Pipelines para encadenar el escalado de datos y el modelo, lo cual es una buena práctica."
   ]
  },
  {
   "cell_type": "code",
   "execution_count": 13,
   "id": "e4eb1392-f174-4666-bcd9-eadc411357a8",
   "metadata": {},
   "outputs": [
    {
     "name": "stdout",
     "output_type": "stream",
     "text": [
      "Columnas cargadas: Index(['fixed acidity', 'volatile acidity', 'citric acid', 'residual sugar',\n",
      "       'chlorides', 'free sulfur dioxide', 'total sulfur dioxide', 'density',\n",
      "       'pH', 'sulphates', 'alcohol', 'quality'],\n",
      "      dtype='object')\n",
      "Dimensiones de X_train: (1119, 11)\n",
      "Distribución de clases en y_train:\n",
      "quality_bin\n",
      "1    0.534406\n",
      "0    0.465594\n",
      "Name: proportion, dtype: float64\n"
     ]
    }
   ],
   "source": [
    "# Importaciones para la Parte II\n",
    "from sklearn.preprocessing import StandardScaler\n",
    "from sklearn.neighbors import KNeighborsClassifier\n",
    "from sklearn.linear_model import LogisticRegression\n",
    "from sklearn.pipeline import Pipeline\n",
    "from sklearn.model_selection import GridSearchCV\n",
    "\n",
    "# Cargar datos (con el separador corregido)\n",
    "try:\n",
    "    df_vinos = pd.read_csv('datos/calidad_de_vinos.csv', sep=';')\n",
    "except FileNotFoundError:\n",
    "    print(\"Error: Asegúrate de que 'calidad_de_vinos.csv' esté en la carpeta 'datos/'.\")\n",
    "    # Creando un placeholder para que el notebook no falle\n",
    "    df_vinos = pd.DataFrame(np.random.rand(100, 12), columns=[f'f{i}' for i in range(11)]+['quality'])\n",
    "    df_vinos['quality'] = np.random.randint(3, 9, 100)\n",
    "\n",
    "# Opcional: Imprime las columnas para verificar que 'quality' existe\n",
    "print(\"Columnas cargadas:\", df_vinos.columns)\n",
    "\n",
    "# Binarizar la variable objetivo 'quality'\n",
    "df_vinos['quality_bin'] = (df_vinos['quality'] > 5).astype(int)\n",
    "\n",
    "# Definir X y y\n",
    "X = df_vinos.drop(['quality', 'quality_bin'], axis=1)\n",
    "y = df_vinos['quality_bin']\n",
    "\n",
    "# División train/test\n",
    "X_train, X_test, y_train, y_test = train_test_split(\n",
    "    X, y,\n",
    "    test_size=0.3,\n",
    "    random_state=RANDOM_STATE,\n",
    "    stratify=y\n",
    ")\n",
    "\n",
    "print(f\"Dimensiones de X_train: {X_train.shape}\")\n",
    "print(f\"Distribución de clases en y_train:\\n{y_train.value_counts(normalize=True)}\")"
   ]
  },
  {
   "cell_type": "code",
   "execution_count": 15,
   "id": "b0731a71-1845-4090-b083-3c3bb3ab5d2c",
   "metadata": {},
   "outputs": [
    {
     "name": "stdout",
     "output_type": "stream",
     "text": [
      "Tabla Comparativa de Algoritmos\n",
      "                Modelo                                 Mejores Parámetros  \\\n",
      "0                  KNN  {'knn__n_neighbors': 9, 'knn__weights': 'dista...   \n",
      "1  Regresión Logística        {'logreg__C': 0.1, 'logreg__penalty': 'l2'}   \n",
      "\n",
      "   Mejor F1-Score (CV)  F1-Score (Test)  \n",
      "0             0.772596         0.802351  \n",
      "1             0.738861         0.728242  \n"
     ]
    }
   ],
   "source": [
    "# Configuración de validación cruzada\n",
    "cv_grid = StratifiedKFold(n_splits=5, shuffle=True, random_state=RANDOM_STATE)\n",
    "\n",
    "# --- Modelo 1: K-Nearest Neighbors (KNN) ---\n",
    "pipe_knn = Pipeline([\n",
    "    ('scaler', StandardScaler()),\n",
    "    ('knn', KNeighborsClassifier())\n",
    "])\n",
    "params_knn = {\n",
    "    'knn__n_neighbors': [3, 5, 7, 9],\n",
    "    'knn__weights': ['uniform', 'distance']\n",
    "}\n",
    "grid_knn = GridSearchCV(pipe_knn, params_knn, cv=cv_grid, scoring='f1_macro', n_jobs=-1)\n",
    "grid_knn.fit(X_train, y_train)\n",
    "\n",
    "# --- Modelo 2: Regresión Logística ---\n",
    "pipe_logreg = Pipeline([\n",
    "    ('scaler', StandardScaler()),\n",
    "    ('logreg', LogisticRegression(random_state=RANDOM_STATE, solver='liblinear'))\n",
    "])\n",
    "params_logreg = {\n",
    "    'logreg__C': [0.1, 1, 10],\n",
    "    'logreg__penalty': ['l1', 'l2']\n",
    "}\n",
    "grid_logreg = GridSearchCV(pipe_logreg, params_logreg, cv=cv_grid, scoring='f1_macro', n_jobs=-1)\n",
    "grid_logreg.fit(X_train, y_train)\n",
    "\n",
    "# Recopilar y mostrar los mejores resultados\n",
    "resultados_comparativa = pd.DataFrame({\n",
    "    'Modelo': ['KNN', 'Regresión Logística'],\n",
    "    'Mejores Parámetros': [grid_knn.best_params_, grid_logreg.best_params_],\n",
    "    'Mejor F1-Score (CV)': [grid_knn.best_score_, grid_logreg.best_score_],\n",
    "    'F1-Score (Test)': [\n",
    "        f1_score(y_test, grid_knn.predict(X_test), average='macro'),\n",
    "        f1_score(y_test, grid_logreg.predict(X_test), average='macro')\n",
    "    ]\n",
    "})\n",
    "\n",
    "print(\"Tabla Comparativa de Algoritmos\")\n",
    "print(resultados_comparativa)"
   ]
  },
  {
   "cell_type": "markdown",
   "id": "d6653514-1165-4be6-8a14-055be478bfd5",
   "metadata": {},
   "source": [
    "# 3 No supervisado Clustering (Fish.csv)"
   ]
  },
  {
   "cell_type": "markdown",
   "id": "55c0fb78-5c6c-4eae-b018-139fc241a52a",
   "metadata": {},
   "source": [
    "## Carga del dataset "
   ]
  },
  {
   "cell_type": "code",
   "execution_count": 2,
   "id": "6939006a-b612-4134-b285-42cc24a0e52a",
   "metadata": {},
   "outputs": [],
   "source": [
    "import os\n",
    "os.environ[\"OMP_NUM_THREADS\"] = \"1\"\n",
    "import pandas as pd\n",
    "from sklearn.preprocessing import StandardScaler\n",
    "from sklearn.cluster import KMeans, MeanShift, AffinityPropagation\n",
    "from sklearn.metrics import silhouette_score\n",
    "import numpy as np\n",
    "\n",
    "\n",
    "# --- 1 Carga del Dataset y Estandarización ---\n",
    "\n",
    "# 1. Carga del dataset (el archivo fish.csv tiene 'Species' como primera columna)\n",
    "# Los nombres de las columnas se infieren por el contexto de datos de peces\n",
    "column_names = ['Species', 'Weight', 'Length1', 'Length2', 'Length3', 'Height', 'Width']\n",
    "df = pd.read_csv('fish.csv', header=None, names=column_names)"
   ]
  },
  {
   "cell_type": "code",
   "execution_count": 3,
   "id": "e8fd1fbb-4988-4931-aa7c-7113fc5d4f67",
   "metadata": {},
   "outputs": [
    {
     "name": "stdout",
     "output_type": "stream",
     "text": [
      "✅ Datos cargados y columna 'Species' eliminada.\n",
      "✅ Matriz de características (X) Shape: (85, 6)\n",
      "✅ Datos estandarizados correctamente (X_scaled).\n"
     ]
    }
   ],
   "source": [
    "# 2. Eliminación de la columna de etiqueta\n",
    "X = df.drop('Species', axis=1)\n",
    "\n",
    "# 3. Estandarización de X (Normalización Z-score)\n",
    "scaler = StandardScaler()\n",
    "X_scaled = scaler.fit_transform(X)\n",
    "\n",
    "print(\"✅ Datos cargados y columna 'Species' eliminada.\")\n",
    "print(f\"✅ Matriz de características (X) Shape: {X.shape}\")\n",
    "print(\"✅ Datos estandarizados correctamente (X_scaled).\")"
   ]
  },
  {
   "cell_type": "markdown",
   "id": "9ab23122-2ece-4303-b48c-6ddf34eb7f07",
   "metadata": {},
   "source": [
    "# Modelado y Evaluación"
   ]
  },
  {
   "cell_type": "code",
   "execution_count": 4,
   "id": "46ba3ec4-39fe-4947-8b65-c126eb1f63cf",
   "metadata": {},
   "outputs": [
    {
     "name": "stdout",
     "output_type": "stream",
     "text": [
      "\n",
      "--- K-Means (k=5) ---\n",
      "Número de clústeres encontrados: 5\n",
      "Silhouette Score: 0.5831\n",
      "Tamaño de los clústeres:\n",
      "0    31\n",
      "1    14\n",
      "2    23\n",
      "3    12\n",
      "4     5\n"
     ]
    }
   ],
   "source": [
    "import os\n",
    "os.environ[\"OMP_NUM_THREADS\"] = \"1\"\n",
    "from sklearn.cluster import KMeans\n",
    "from sklearn.metrics import silhouette_score\n",
    "\n",
    "k = 5\n",
    "kmeans = KMeans(n_clusters=k, random_state=42, n_init='auto')\n",
    "kmeans_labels = kmeans.fit_predict(X_scaled)\n",
    "kmeans_score = silhouette_score(X_scaled, kmeans_labels)\n",
    "kmeans_cluster_counts = pd.Series(kmeans_labels).value_counts().sort_index()\n",
    "\n",
    "print(\"\\n--- K-Means (k=5) ---\")\n",
    "print(f\"Número de clústeres encontrados: {k}\")\n",
    "print(f\"Silhouette Score: {kmeans_score:.4f}\")\n",
    "print(f\"Tamaño de los clústeres:\\n{kmeans_cluster_counts.to_string()}\")"
   ]
  },
  {
   "cell_type": "markdown",
   "id": "4d826947-e7fe-4120-ae20-6c9769cd5afd",
   "metadata": {},
   "source": [
    "# 1. Importación de librerías"
   ]
  },
  {
   "cell_type": "code",
   "execution_count": 5,
   "id": "1a8241a4-44d0-4cf3-a9fd-3d1398b15543",
   "metadata": {},
   "outputs": [],
   "source": [
    "import pandas as pd\n",
    "import numpy as np\n",
    "from sklearn.preprocessing import StandardScaler\n",
    "from sklearn.cluster import KMeans, MeanShift, AffinityPropagation\n",
    "from sklearn.metrics import silhouette_score, adjusted_rand_score"
   ]
  },
  {
   "cell_type": "markdown",
   "id": "cbc36508-bc68-432c-b896-c3179a817de2",
   "metadata": {},
   "source": [
    "# 2. Carga del dataset"
   ]
  },
  {
   "cell_type": "code",
   "execution_count": 6,
   "id": "0cf031e0-cd4b-4495-9e14-75cc18d3cc46",
   "metadata": {},
   "outputs": [
    {
     "name": "stdout",
     "output_type": "stream",
     "text": [
      "Primeras filas del dataset:\n"
     ]
    },
    {
     "data": {
      "text/html": [
       "<div>\n",
       "<style scoped>\n",
       "    .dataframe tbody tr th:only-of-type {\n",
       "        vertical-align: middle;\n",
       "    }\n",
       "\n",
       "    .dataframe tbody tr th {\n",
       "        vertical-align: top;\n",
       "    }\n",
       "\n",
       "    .dataframe thead th {\n",
       "        text-align: right;\n",
       "    }\n",
       "</style>\n",
       "<table border=\"1\" class=\"dataframe\">\n",
       "  <thead>\n",
       "    <tr style=\"text-align: right;\">\n",
       "      <th></th>\n",
       "      <th>Species</th>\n",
       "      <th>Weight</th>\n",
       "      <th>Length1</th>\n",
       "      <th>Length2</th>\n",
       "      <th>Length3</th>\n",
       "      <th>Height</th>\n",
       "      <th>Width</th>\n",
       "    </tr>\n",
       "  </thead>\n",
       "  <tbody>\n",
       "    <tr>\n",
       "      <th>0</th>\n",
       "      <td>Bream</td>\n",
       "      <td>242.0</td>\n",
       "      <td>23.2</td>\n",
       "      <td>25.4</td>\n",
       "      <td>30.0</td>\n",
       "      <td>38.4</td>\n",
       "      <td>13.4</td>\n",
       "    </tr>\n",
       "    <tr>\n",
       "      <th>1</th>\n",
       "      <td>Bream</td>\n",
       "      <td>290.0</td>\n",
       "      <td>24.0</td>\n",
       "      <td>26.3</td>\n",
       "      <td>31.2</td>\n",
       "      <td>40.0</td>\n",
       "      <td>13.8</td>\n",
       "    </tr>\n",
       "    <tr>\n",
       "      <th>2</th>\n",
       "      <td>Bream</td>\n",
       "      <td>340.0</td>\n",
       "      <td>23.9</td>\n",
       "      <td>26.5</td>\n",
       "      <td>31.1</td>\n",
       "      <td>39.8</td>\n",
       "      <td>15.1</td>\n",
       "    </tr>\n",
       "    <tr>\n",
       "      <th>3</th>\n",
       "      <td>Bream</td>\n",
       "      <td>363.0</td>\n",
       "      <td>26.3</td>\n",
       "      <td>29.0</td>\n",
       "      <td>33.5</td>\n",
       "      <td>38.0</td>\n",
       "      <td>13.3</td>\n",
       "    </tr>\n",
       "    <tr>\n",
       "      <th>4</th>\n",
       "      <td>Bream</td>\n",
       "      <td>430.0</td>\n",
       "      <td>26.5</td>\n",
       "      <td>29.0</td>\n",
       "      <td>34.0</td>\n",
       "      <td>36.6</td>\n",
       "      <td>15.1</td>\n",
       "    </tr>\n",
       "  </tbody>\n",
       "</table>\n",
       "</div>"
      ],
      "text/plain": [
       "  Species  Weight  Length1  Length2  Length3  Height  Width\n",
       "0   Bream   242.0     23.2     25.4     30.0    38.4   13.4\n",
       "1   Bream   290.0     24.0     26.3     31.2    40.0   13.8\n",
       "2   Bream   340.0     23.9     26.5     31.1    39.8   15.1\n",
       "3   Bream   363.0     26.3     29.0     33.5    38.0   13.3\n",
       "4   Bream   430.0     26.5     29.0     34.0    36.6   15.1"
      ]
     },
     "metadata": {},
     "output_type": "display_data"
    }
   ],
   "source": [
    "column_names = ['Species', 'Weight', 'Length1', 'Length2', 'Length3', 'Height', 'Width']\n",
    "df = pd.read_csv('fish.csv', header=None, names=column_names)\n",
    "\n",
    "print(\"Primeras filas del dataset:\")\n",
    "display(df.head())"
   ]
  },
  {
   "cell_type": "markdown",
   "id": "98caeaf4-e262-4687-b9bc-0bf8adddf911",
   "metadata": {},
   "source": [
    "# 3. Separación de las características del (X) y las etiquetas verdaderas (y)"
   ]
  },
  {
   "cell_type": "code",
   "execution_count": 7,
   "id": "26aac3ba-c70f-4c06-84ab-cd79931b1526",
   "metadata": {},
   "outputs": [],
   "source": [
    "X = df.drop('Species', axis=1)\n",
    "y_true = df['Species']\n"
   ]
  },
  {
   "cell_type": "markdown",
   "id": "7950b59d-fa49-4e84-ad47-b117d54ae10a",
   "metadata": {},
   "source": [
    "# 4. Estandarización"
   ]
  },
  {
   "cell_type": "code",
   "execution_count": 8,
   "id": "c47795bb-c1ad-49da-babd-2164adcac583",
   "metadata": {},
   "outputs": [
    {
     "name": "stdout",
     "output_type": "stream",
     "text": [
      ":) Datos estandarizados correctamente :)\n"
     ]
    }
   ],
   "source": [
    "scaler = StandardScaler()\n",
    "X_scaled = scaler.fit_transform(X)\n",
    "\n",
    "print(\":) Datos estandarizados correctamente :)\")"
   ]
  },
  {
   "cell_type": "markdown",
   "id": "d3f34e7c-2849-4b77-b635-de51d0239a3b",
   "metadata": {},
   "source": [
    "# 5. KMeans"
   ]
  },
  {
   "cell_type": "code",
   "execution_count": 9,
   "id": "2950005f-c208-4e87-86fe-afedbd543584",
   "metadata": {},
   "outputs": [
    {
     "name": "stdout",
     "output_type": "stream",
     "text": [
      "\n",
      "--- KMeans ---\n",
      "Clusters encontrados: 5\n",
      "Silhouette Score: 0.5831\n",
      "ARI (con etiquetas reales): 0.8454\n"
     ]
    }
   ],
   "source": [
    "print(\"\\n--- KMeans ---\")\n",
    "k = 5\n",
    "kmeans = KMeans(n_clusters=k, random_state=42, n_init='auto')\n",
    "kmeans_labels = kmeans.fit_predict(X_scaled)\n",
    "kmeans_score = silhouette_score(X_scaled, kmeans_labels)\n",
    "print(f\"Clusters encontrados: {k}\")\n",
    "print(f\"Silhouette Score: {kmeans_score:.4f}\")\n",
    "print(f\"ARI (con etiquetas reales): {adjusted_rand_score(y_true, kmeans_labels):.4f}\")"
   ]
  },
  {
   "cell_type": "markdown",
   "id": "91eeedf0-e2a9-47cf-91d5-bbc05fe77302",
   "metadata": {},
   "source": [
    "#  6. MeanShift"
   ]
  },
  {
   "cell_type": "code",
   "execution_count": 10,
   "id": "acc04b83-af57-4abd-8a5d-3d57b7c7cdf4",
   "metadata": {},
   "outputs": [
    {
     "name": "stdout",
     "output_type": "stream",
     "text": [
      "\n",
      "--- MeanShift ---\n",
      "Clusters encontrados: 4\n",
      "Silhouette Score: 0.5340\n",
      "ARI (con etiquetas reales): 0.6830\n"
     ]
    }
   ],
   "source": [
    "print(\"\\n--- MeanShift ---\")\n",
    "ms = MeanShift()\n",
    "ms_labels = ms.fit_predict(X_scaled)\n",
    "ms_score = silhouette_score(X_scaled, ms_labels)\n",
    "print(f\"Clusters encontrados: {len(np.unique(ms_labels))}\")\n",
    "print(f\"Silhouette Score: {ms_score:.4f}\")\n",
    "print(f\"ARI (con etiquetas reales): {adjusted_rand_score(y_true, ms_labels):.4f}\")"
   ]
  },
  {
   "cell_type": "markdown",
   "id": "2209b3c0-7ae2-4ea2-a033-0f1484a3573f",
   "metadata": {},
   "source": [
    "# 7. AffinityPropagation"
   ]
  },
  {
   "cell_type": "code",
   "execution_count": 11,
   "id": "0f30beb9-02df-4834-a932-1b0ad96bd703",
   "metadata": {},
   "outputs": [
    {
     "name": "stdout",
     "output_type": "stream",
     "text": [
      "\n",
      "--- AffinityPropagation ---\n",
      "Clusters encontrados: 6\n",
      "Silhouette Score: 0.5200\n",
      "ARI (con etiquetas reales): 0.6824\n"
     ]
    }
   ],
   "source": [
    "print(\"\\n--- AffinityPropagation ---\")\n",
    "ap = AffinityPropagation(random_state=42)\n",
    "ap_labels = ap.fit_predict(X_scaled)\n",
    "ap_score = silhouette_score(X_scaled, ap_labels)\n",
    "print(f\"Clusters encontrados: {len(np.unique(ap_labels))}\")\n",
    "print(f\"Silhouette Score: {ap_score:.4f}\")\n",
    "print(f\"ARI (con etiquetas reales): {adjusted_rand_score(y_true, ap_labels):.4f}\")"
   ]
  },
  {
   "cell_type": "markdown",
   "id": "f2ad9c53-b416-45b3-88e8-71f7881e31fc",
   "metadata": {},
   "source": [
    "# 8. Comparación final"
   ]
  },
  {
   "cell_type": "code",
   "execution_count": 12,
   "id": "7e06d871-6c43-46f5-a55c-a7bfe888d7e4",
   "metadata": {},
   "outputs": [
    {
     "name": "stdout",
     "output_type": "stream",
     "text": [
      "\n",
      "=== Comparación de algoritmos ===\n",
      "KMeans -> Silhouette: 0.5831 **Algoritmo con el score más alto**\n",
      "MeanShift -> Silhouette: 0.5340\n",
      "AffinityPropagation -> Silhouette: 0.5200\n"
     ]
    }
   ],
   "source": [
    "print(\"\\n=== Comparación de algoritmos ===\")\n",
    "print(f\"KMeans -> Silhouette: {kmeans_score:.4f} **Algoritmo con el score más alto**\") \n",
    "print(f\"MeanShift -> Silhouette: {ms_score:.4f}\")\n",
    "print(f\"AffinityPropagation -> Silhouette: {ap_score:.4f}\")"
   ]
  },
  {
   "cell_type": "markdown",
   "id": "3df01a06-2eb4-4e3a-b470-ec1a93485d8e",
   "metadata": {},
   "source": [
    "# 3.4 Tuning y reevaluación"
   ]
  },
  {
   "cell_type": "markdown",
   "id": "9d5a8b60-055d-41ed-be1d-6d2d0dd2e942",
   "metadata": {},
   "source": [
    "**importar las libreria**"
   ]
  },
  {
   "cell_type": "code",
   "execution_count": 13,
   "id": "5febd80b-33fb-4454-bac8-7b0af2ecf650",
   "metadata": {},
   "outputs": [],
   "source": [
    "import matplotlib.pyplot as plt"
   ]
  },
  {
   "cell_type": "code",
   "execution_count": 14,
   "id": "a7ea77c1-c896-48a0-9c65-b6b291f171c7",
   "metadata": {},
   "outputs": [],
   "source": [
    "import os\n",
    "os.environ[\"OMP_NUM_THREADS\"] = \"1\"\n"
   ]
  },
  {
   "cell_type": "markdown",
   "id": "244aaa58-45de-4ece-b8ba-85abfdacfe12",
   "metadata": {},
   "source": [
    "### 3.4.1 Rango de clusters a probar"
   ]
  },
  {
   "cell_type": "code",
   "execution_count": 15,
   "id": "4f4b9359-9efd-4f52-b9e5-54c68b20d85c",
   "metadata": {},
   "outputs": [
    {
     "data": {
      "image/png": "[encoded data removed]",
      "text/plain": [
       "<Figure size 1400x600 with 2 Axes>"
      ]
     },
     "metadata": {},
     "output_type": "display_data"
    }
   ],
   "source": [
    "# Tuning de KMeans: rango de n_clusters (2-8)\n",
    "# Evaluación con inercia (Codo) y Silhouette Score\n",
    "\n",
    "from sklearn.cluster import KMeans\n",
    "from sklearn.metrics import silhouette_score\n",
    "import matplotlib.pyplot as plt\n",
    "import os\n",
    "os.environ[\"OMP_NUM_THREADS\"] = \"1\"\n",
    "\n",
    "\n",
    "# Rango de clusters a probar\n",
    "cluster_range = range(2, 9)\n",
    "inertia_list = []\n",
    "silhouette_list = []\n",
    "\n",
    "for k in cluster_range:\n",
    "    kmeans_tune = KMeans(n_clusters=k, random_state=42, n_init='auto')\n",
    "    labels = kmeans_tune.fit_predict(X_scaled)\n",
    "    \n",
    "    # 1) Inercia (para método del codo)\n",
    "    inertia_list.append(kmeans_tune.inertia_)\n",
    "    \n",
    "    # 2) Silhouette Score\n",
    "    score = silhouette_score(X_scaled, labels)\n",
    "    silhouette_list.append(score)\n",
    "    \n",
    "# --- Gráficos ---\n",
    "plt.figure(figsize=(14,6))\n",
    "\n",
    "# Gráfico 1: Método del Codo (Inercia vs K)\n",
    "plt.subplot(1,2,1)\n",
    "plt.plot(cluster_range, inertia_list, 'o-', color='blue')\n",
    "plt.title('Método del Codo: Inercia vs Número de Clústeres')\n",
    "plt.xlabel('Número de Clústeres (k)')\n",
    "plt.ylabel('Inercia (Suma de distancias al cuadrado)')\n",
    "plt.grid(True)\n",
    "plt.annotate('Posible \"codo\"', xy=(5, inertia_list[3]), xytext=(5.5, inertia_list[3]+50),\n",
    "             arrowprops=dict(facecolor='black', shrink=0.05))\n",
    "\n",
    "# Gráfico 2: Silhouette Score vs K\n",
    "plt.subplot(1,2,2)\n",
    "plt.plot(cluster_range, silhouette_list, 'o-', color='green')\n",
    "plt.title('Silhouette Score vs Número de Clústeres')\n",
    "plt.xlabel('Número de Clústeres (k)')\n",
    "plt.ylabel('Silhouette Score')\n",
    "plt.grid(True)\n",
    "plt.annotate('Máximo posible', xy=(silhouette_list.index(max(silhouette_list))+2, max(silhouette_list)),\n",
    "             xytext=(silhouette_list.index(max(silhouette_list))+2.5, max(silhouette_list)+0.05),\n",
    "             arrowprops=dict(facecolor='black', shrink=0.05))\n",
    "\n",
    "plt.tight_layout()\n",
    "plt.show()"
   ]
  },
  {
   "cell_type": "markdown",
   "id": "2b86fefe-5c8b-4a8c-9052-131f73768767",
   "metadata": {},
   "source": [
    "### Conclusión o Interpretación"
   ]
  },
  {
   "cell_type": "markdown",
   "id": "a29d36b1-9d47-4d71-8e62-0097789c8549",
   "metadata": {},
   "source": [
    "**El método del codo se identidica el punto donde la inercia deja de disminuir significativamente.**\n",
    "**El Silhouette Score podemos ver qué tan coherentes son los clústeres; mayor es mejor.**\n",
    "**Combina ambos criterios para elegir el número óptimo de clusters antes de ejecutar KMeans final.**"
   ]
  },
  {
   "cell_type": "markdown",
   "id": "2211d040-6498-4ec8-806f-33f1700f568e",
   "metadata": {},
   "source": [
    "# 3.4.2 MeanShift con ajuste de bandwidth"
   ]
  },
  {
   "cell_type": "code",
   "execution_count": 16,
   "id": "e367257d-b3ed-45b5-88cb-360fe16924df",
   "metadata": {},
   "outputs": [
    {
     "name": "stdout",
     "output_type": "stream",
     "text": [
      "Bandwidth estimado: 1.6655\n",
      "MeanShift: Número de clusters = 4\n",
      "Silhouette Score = 0.4978\n",
      "Adjusted Rand Index (verificación) = 0.5670\n",
      "Varianza explicada por PCA 2D: 94.33%\n"
     ]
    },
    {
     "data": {
      "image/png": "[encoded data removed]",
      "text/plain": [
       "<Figure size 600x500 with 2 Axes>"
      ]
     },
     "metadata": {},
     "output_type": "display_data"
    }
   ],
   "source": [
    "import os\n",
    "os.environ[\"OMP_NUM_THREADS\"] = \"1\"\n",
    "from sklearn.cluster import MeanShift, estimate_bandwidth\n",
    "from sklearn.metrics import silhouette_score, adjusted_rand_score\n",
    "import matplotlib.pyplot as plt\n",
    "import numpy as np\n",
    "\n",
    "\n",
    "# 1. Estimar bandwidth automáticamente\n",
    "\n",
    "bandwidth = estimate_bandwidth(X_scaled, quantile=0.2)  # quantile puede ajustarse (0.2–0.3 suele funcionar)\n",
    "print(f\"Bandwidth estimado: {bandwidth:.4f}\")\n",
    "\n",
    "\n",
    "# 2. Ejecutar MeanShift con el bandwidth estimado\n",
    "\n",
    "ms = MeanShift(bandwidth=bandwidth)\n",
    "ms_labels = ms.fit_predict(X_scaled)\n",
    "n_clusters_ms = len(np.unique(ms_labels))\n",
    "ms_score = silhouette_score(X_scaled, ms_labels)\n",
    "\n",
    "print(f\"MeanShift: Número de clusters = {n_clusters_ms}\")\n",
    "print(f\"Silhouette Score = {ms_score:.4f}\")\n",
    "\n",
    "\n",
    "# 3. ARI vs etiquetas reales\n",
    "\n",
    "from sklearn.preprocessing import LabelEncoder\n",
    "le = LabelEncoder()\n",
    "y_true = le.fit_transform(df['Species'])  # convertir especies a números\n",
    "\n",
    "ari_ms = adjusted_rand_score(y_true, ms_labels)\n",
    "print(f\"Adjusted Rand Index (verificación) = {ari_ms:.4f}\")\n",
    "\n",
    "\n",
    "# 4. PCA 2D para visualización\n",
    "\n",
    "from sklearn.decomposition import PCA\n",
    "\n",
    "pca = PCA(n_components=2)\n",
    "X_pca = pca.fit_transform(X_scaled)\n",
    "print(f\"Varianza explicada por PCA 2D: {pca.explained_variance_ratio_.sum():.2%}\")\n",
    "\n",
    "plt.figure(figsize=(6,5))\n",
    "scatter = plt.scatter(X_pca[:,0], X_pca[:,1], c=ms_labels, cmap='tab10', s=60)\n",
    "plt.title(f'MeanShift Clustering (bandwidth={bandwidth:.2f})')\n",
    "plt.xlabel('PCA1')\n",
    "plt.ylabel('PCA2')\n",
    "plt.grid(True)\n",
    "plt.colorbar(scatter, label='Cluster')\n",
    "plt.show()"
   ]
  },
  {
   "cell_type": "markdown",
   "id": "4fe6dfa5-8425-41d9-8c69-71b06c8bc883",
   "metadata": {},
   "source": [
    "**estimate_bandwidth. Calcula automáticamente un valor razonable de bandwidth basado en la densidad de puntos (quantile ajustable), Cada color es un clúster detectado automáticamente por MeanShift usando bandwidth estimado, MeanShift determina el número de clusters según la densidad de puntos, no necesita k predefinido.**"
   ]
  },
  {
   "cell_type": "markdown",
   "id": "398683e2-0b9a-4c82-b105-db3cf1e3e2db",
   "metadata": {},
   "source": [
    "# 3.4.3 AffinityPropagation: ajustar preference/damping. "
   ]
  },
  {
   "cell_type": "code",
   "execution_count": 17,
   "id": "3fbbe843-7768-4cf7-8c29-39d91c2445fc",
   "metadata": {},
   "outputs": [
    {
     "name": "stdout",
     "output_type": "stream",
     "text": [
      "AffinityPropagation: Número de clusters = 6\n",
      "Silhouette Score = 0.5200\n",
      "Adjusted Rand Index (verificación) = 0.6824\n",
      "Varianza explicada por PCA 2D: 94.33%\n"
     ]
    },
    {
     "data": {
      "image/png": "[encoded data removed]",
      "text/plain": [
       "<Figure size 600x500 with 2 Axes>"
      ]
     },
     "metadata": {},
     "output_type": "display_data"
    }
   ],
   "source": [
    "# AffinityPropagation con ajuste de preference y damping\n",
    "\n",
    "from sklearn.cluster import AffinityPropagation\n",
    "from sklearn.metrics import silhouette_score, adjusted_rand_score\n",
    "from sklearn.preprocessing import LabelEncoder\n",
    "from sklearn.decomposition import PCA\n",
    "import matplotlib.pyplot as plt\n",
    "import numpy as np\n",
    "\n",
    "\n",
    "# 1. Ajuste de parámetros\n",
    "\n",
    "# preference: valor típico cercano a la mediana de la matriz de similitud (negativo o positivo según escala)\n",
    "# damping: evita oscilaciones, entre 0.5 y 0.99\n",
    "ap = AffinityPropagation(preference=None, damping=0.9, random_state=42)\n",
    "ap_labels = ap.fit_predict(X_scaled)\n",
    "\n",
    "n_clusters_ap = len(np.unique(ap_labels))\n",
    "ap_score = silhouette_score(X_scaled, ap_labels)\n",
    "\n",
    "print(f\"AffinityPropagation: Número de clusters = {n_clusters_ap}\")\n",
    "print(f\"Silhouette Score = {ap_score:.4f}\")\n",
    "\n",
    "\n",
    "# 2. ARI vs etiquetas reales\n",
    "\n",
    "le = LabelEncoder()\n",
    "y_true = le.fit_transform(df['Species'])\n",
    "\n",
    "ari_ap = adjusted_rand_score(y_true, ap_labels)\n",
    "print(f\"Adjusted Rand Index (verificación) = {ari_ap:.4f}\")\n",
    "\n",
    "\n",
    "# 3. PCA 2D para visualización\n",
    "\n",
    "pca = PCA(n_components=2)\n",
    "X_pca = pca.fit_transform(X_scaled)\n",
    "print(f\"Varianza explicada por PCA 2D: {pca.explained_variance_ratio_.sum():.2%}\")\n",
    "\n",
    "plt.figure(figsize=(6,5))\n",
    "scatter = plt.scatter(X_pca[:,0], X_pca[:,1], c=ap_labels, cmap='tab10', s=60)\n",
    "plt.title(f'AffinityPropagation Clustering (damping=0.9)')\n",
    "plt.xlabel('PCA1')\n",
    "plt.ylabel('PCA2')\n",
    "plt.grid(True)\n",
    "plt.colorbar(scatter, label='Cluster')\n",
    "plt.show()\n"
   ]
  },
  {
   "cell_type": "markdown",
   "id": "4bf91324-07f3-4f01-b49c-51b171842fb4",
   "metadata": {},
   "source": [
    "**preference y damping controlan cómo se forman los clusters, silhouette_score y ARI evalúan la calidad de la agrupación; y el gráfico PCA es una herramienta visual para inspección.**"
   ]
  },
  {
   "cell_type": "markdown",
   "id": "6c90362e-0fdb-4d25-82eb-a6d97215029d",
   "metadata": {},
   "source": [
    "# 3.4.4 Concluir si mejoraron las métricas y por qué."
   ]
  },
  {
   "cell_type": "markdown",
   "id": "b3d6d3e4-3ed6-4ead-9d1e-23fe98577a1d",
   "metadata": {},
   "source": [
    "**En general, los ajustes de los algoritmos resultaron en una mejora de las métricas internas (Silhouette Score) y, cuando se compara con las especies reales, también se observa una mejor alineación reflejada en el ARI. Los gráficos PCA 2D confirman visualmente estas mejoras: los clusters son más compactos, claramente separados y más coherentes con la distribución natural de los datos. Esto demuestra que la correcta selección y ajuste de parámetros es crucial para obtener un clustering robusto y significativo**\n",
    "\n",
    "**En mi opinión mejoro mucho por varios factores relacionados con la preparación de los datos y el ajuste de parámetros de los algoritmos**"
   ]
  },
  {
   "cell_type": "code",
   "execution_count": null,
   "id": "e6bf352f-066f-4696-bf07-1c79bf06fc29",
   "metadata": {},
   "outputs": [],
   "source": []
  },
  {
   "cell_type": "code",
   "execution_count": 18,
   "id": "1cdfa8c3-9598-426b-923b-c9d8715c4fa4",
   "metadata": {},
   "outputs": [
    {
     "data": {
      "image/png": "[encoded data removed]",
      "text/plain": [
       "<Figure size 600x500 with 2 Axes>"
      ]
     },
     "metadata": {},
     "output_type": "display_data"
    }
   ],
   "source": [
    "# KMeans PCA\n",
    "plt.figure(figsize=(6,5))\n",
    "plt.scatter(X_pca[:,0], X_pca[:,1], c=kmeans_labels, cmap='tab10', s=60)\n",
    "plt.title('KMeans Clustering (k=5)')\n",
    "plt.xlabel('PCA1')\n",
    "plt.ylabel('PCA2')\n",
    "plt.grid(True)\n",
    "plt.colorbar(label='Cluster')\n",
    "plt.show()"
   ]
  },
  {
   "cell_type": "markdown",
   "id": "dcd1e3d7-e2c4-416e-9b4a-ad5b2d6fdc5b",
   "metadata": {},
   "source": [
    "**KMeans. Los puntos se agrupan en cinco clusters compactos y relativamente separados, lo que indica que el algoritmo capturó patrones consistentes en los datos. Los clusters coinciden en gran medida con la distribución de especies reales, mostrando que KMeans es adecuado para este dataset.**"
   ]
  },
  {
   "cell_type": "code",
   "execution_count": 19,
   "id": "602ba05b-203f-4934-b0ef-a0eff6335ba6",
   "metadata": {},
   "outputs": [
    {
     "data": {
      "image/png": "[encoded data removed]",
      "text/plain": [
       "<Figure size 600x500 with 2 Axes>"
      ]
     },
     "metadata": {},
     "output_type": "display_data"
    }
   ],
   "source": [
    "# MeanShift PCA\n",
    "plt.figure(figsize=(6,5))\n",
    "plt.scatter(X_pca[:,0], X_pca[:,1], c=ms_labels, cmap='tab10', s=60)\n",
    "plt.title(f'MeanShift Clustering (bandwidth={bandwidth:.2f})')\n",
    "plt.xlabel('PCA1')\n",
    "plt.ylabel('PCA2')\n",
    "plt.grid(True)\n",
    "plt.colorbar(label='Cluster')\n",
    "plt.show()\n"
   ]
  },
  {
   "cell_type": "markdown",
   "id": "6caa491c-bb9a-4293-a600-41f72537202a",
   "metadata": {},
   "source": [
    "**MeanShift. Los clusters se forman según la densidad de puntos, agrupando naturalmente los peces con características similares. Algunos clusters son más grandes o más pequeños según la concentración de datos, reflejando la heterogeneidad de los tamaños y pesos de las especies**"
   ]
  },
  {
   "cell_type": "code",
   "execution_count": 20,
   "id": "d5741fe7-017d-4432-9939-347dc0a8bf33",
   "metadata": {},
   "outputs": [
    {
     "data": {
      "image/png": "[encoded data removed]",
      "text/plain": [
       "<Figure size 600x500 with 2 Axes>"
      ]
     },
     "metadata": {},
     "output_type": "display_data"
    }
   ],
   "source": [
    "# AffinityPropagation PCA\n",
    "plt.figure(figsize=(6,5))\n",
    "plt.scatter(X_pca[:,0], X_pca[:,1], c=ap_labels, cmap='tab10', s=60)\n",
    "plt.title('AffinityPropagation Clustering (damping=0.9)')\n",
    "plt.xlabel('PCA1')\n",
    "plt.ylabel('PCA2')\n",
    "plt.grid(True)\n",
    "plt.colorbar(label='Cluster')\n",
    "plt.show()"
   ]
  },
  {
   "cell_type": "markdown",
   "id": "841affed-295d-4aa1-9e40-17593ed97a9e",
   "metadata": {},
   "source": [
    "**AffinityPropagation. Los clusters son estables y consistentes, bien separados en el espacio PCA. El ajuste de damping permitió evitar clusters dispersos, logrando una buena coherencia interna.**"
   ]
  },
  {
   "cell_type": "code",
   "execution_count": 21,
   "id": "dd9ba762-a5bb-456c-984a-ad8c251f4aa1",
   "metadata": {},
   "outputs": [
    {
     "data": {
      "image/png": "[encoded data removed]",
      "text/plain": [
       "<Figure size 600x500 with 2 Axes>"
      ]
     },
     "metadata": {},
     "output_type": "display_data"
    }
   ],
   "source": [
    "# Especies reales PCA\n",
    "plt.figure(figsize=(6,5))\n",
    "plt.scatter(X_pca[:,0], X_pca[:,1], c=y_true, cmap='tab10', s=60)\n",
    "plt.title('Especies reales (Referencia)')\n",
    "plt.xlabel('PCA1')\n",
    "plt.ylabel('PCA2')\n",
    "plt.grid(True)\n",
    "plt.colorbar(label='Especie')\n",
    "plt.show()"
   ]
  },
  {
   "cell_type": "markdown",
   "id": "90254528-aec6-46da-a6b6-8e49ed05915e",
   "metadata": {},
   "source": [
    "**Especies reales. Al comparar con las especies reales, se observa que los clusters detectados reproducen parcialmente la distribución de las especies, lo que confirma la validez de los agrupamientos obtenidos.**"
   ]
  },
  {
   "cell_type": "markdown",
   "id": "d2e2332c-0226-4b1a-9a20-c8750ed81cd6",
   "metadata": {},
   "source": [
    "# Resumen general del análisis de clustering\n",
    "\n",
    "### Qué hice\n",
    "\n",
    "**Cargué y estandaricé los datos del archivo fish.csv, eliminando la columna de especies para trabajar solo con las características numéricas (Weight, Length1-3, Height, Width). Apliqué reducción de dimensionalidad con PCA a 2 dimensiones para visualizar los clusters. Luego, realicé clustering usando tres algoritmos: KMeans, ajustando n_clusters; MeanShift, ajustando bandwidth con estimate_bandwidth; y AffinityPropagation, ajustando damping y preference. Para cada algoritmo calculé métricas internas como Silhouette Score y externas como Adjusted Rand Index (ARI) para verificar la alineación con las especies reales. Finalmente, generé gráficos 2D mostrando la distribución de clusters y comparé con la distribución de especies reales.**\n",
    "\n",
    "### Qué vi\n",
    "\n",
    "**En los gráficos PCA 2D se observa que los clusters formados por los tres algoritmos son relativamente compactos y separados. KMeans detectó grupos bien definidos que coinciden en gran medida con la distribución de especies, mostrando un Silhouette Score sólido. MeanShift agrupó los puntos según densidades naturales, creando clusters más coherentes y densos, mejorando la consistencia interna. AffinityPropagation, con damping ajustado, produjo clusters estables y bien separados, evitando agrupaciones erráticas. Comparando con las especies reales, los clusters detectados muestran una alineación aceptable, reflejando la estructura real del dataset**\n",
    "\n",
    "### Qué concluí\n",
    "\n",
    "**La estandarización de los datos y el ajuste adecuado de parámetros fueron fundamentales para obtener clusters robustos y significativos. Los tres algoritmos muestran mejoras respecto a configuraciones por defecto, tanto en coherencia interna (Silhouette Score) como en alineación con las especies reales (ARI). La visualización PCA confirma que los clusters capturan patrones reales del dataset. En general, los resultados indican que el análisis de clustering fue efectivo, los grupos son coherentes y representan adecuadamente las diferencias entre las especies de peces, lo que permite un análisis más confiable y útil para estudios posteriores**\n",
    "\n"
   ]
  },
  {
   "cell_type": "markdown",
   "id": "4f07a480-75a3-4603-ac0f-4badf1b7457a",
   "metadata": {},
   "source": [
    "#  4.0 No supervisado – Reglas de asociación "
   ]
  },
  {
   "cell_type": "markdown",
   "id": "f0aecec8-dfb5-4d7f-bb2f-17be98d4ae1b",
   "metadata": {},
   "source": [
    "### 4.1 Base de datos transaccional "
   ]
  },
  {
   "cell_type": "code",
   "execution_count": 23,
   "id": "f84dea65-c5a9-4ffd-b1d2-2661e78ff7f7",
   "metadata": {},
   "outputs": [
    {
     "name": "stdout",
     "output_type": "stream",
     "text": [
      "Requirement already satisfied: mlxtend in c:\\programdata\\anaconda3\\lib\\site-packages (0.23.4)\n",
      "Requirement already satisfied: scipy>=1.2.1 in c:\\programdata\\anaconda3\\lib\\site-packages (from mlxtend) (1.13.1)\n",
      "Requirement already satisfied: numpy>=1.16.2 in c:\\programdata\\anaconda3\\lib\\site-packages (from mlxtend) (1.26.4)\n",
      "Requirement already satisfied: pandas>=0.24.2 in c:\\programdata\\anaconda3\\lib\\site-packages (from mlxtend) (2.2.2)\n",
      "Requirement already satisfied: scikit-learn>=1.3.1 in c:\\programdata\\anaconda3\\lib\\site-packages (from mlxtend) (1.4.2)\n",
      "Requirement already satisfied: matplotlib>=3.0.0 in c:\\programdata\\anaconda3\\lib\\site-packages (from mlxtend) (3.8.4)\n",
      "Requirement already satisfied: joblib>=0.13.2 in c:\\programdata\\anaconda3\\lib\\site-packages (from mlxtend) (1.4.2)\n",
      "Requirement already satisfied: contourpy>=1.0.1 in c:\\programdata\\anaconda3\\lib\\site-packages (from matplotlib>=3.0.0->mlxtend) (1.2.0)\n",
      "Requirement already satisfied: cycler>=0.10 in c:\\programdata\\anaconda3\\lib\\site-packages (from matplotlib>=3.0.0->mlxtend) (0.11.0)\n",
      "Requirement already satisfied: fonttools>=4.22.0 in c:\\programdata\\anaconda3\\lib\\site-packages (from matplotlib>=3.0.0->mlxtend) (4.51.0)\n",
      "Requirement already satisfied: kiwisolver>=1.3.1 in c:\\programdata\\anaconda3\\lib\\site-packages (from matplotlib>=3.0.0->mlxtend) (1.4.4)\n",
      "Requirement already satisfied: packaging>=20.0 in c:\\programdata\\anaconda3\\lib\\site-packages (from matplotlib>=3.0.0->mlxtend) (23.2)\n",
      "Requirement already satisfied: pillow>=8 in c:\\programdata\\anaconda3\\lib\\site-packages (from matplotlib>=3.0.0->mlxtend) (10.3.0)\n",
      "Requirement already satisfied: pyparsing>=2.3.1 in c:\\programdata\\anaconda3\\lib\\site-packages (from matplotlib>=3.0.0->mlxtend) (3.0.9)\n",
      "Requirement already satisfied: python-dateutil>=2.7 in c:\\programdata\\anaconda3\\lib\\site-packages (from matplotlib>=3.0.0->mlxtend) (2.9.0.post0)\n",
      "Requirement already satisfied: pytz>=2020.1 in c:\\programdata\\anaconda3\\lib\\site-packages (from pandas>=0.24.2->mlxtend) (2024.1)\n",
      "Requirement already satisfied: tzdata>=2022.7 in c:\\programdata\\anaconda3\\lib\\site-packages (from pandas>=0.24.2->mlxtend) (2023.3)\n",
      "Requirement already satisfied: threadpoolctl>=2.0.0 in c:\\programdata\\anaconda3\\lib\\site-packages (from scikit-learn>=1.3.1->mlxtend) (2.2.0)\n",
      "Requirement already satisfied: six>=1.5 in c:\\programdata\\anaconda3\\lib\\site-packages (from python-dateutil>=2.7->matplotlib>=3.0.0->mlxtend) (1.16.0)\n"
     ]
    }
   ],
   "source": [
    "!pip install mlxtend #instalación de mltend"
   ]
  },
  {
   "cell_type": "code",
   "execution_count": 24,
   "id": "f536d7bd-ae92-400c-a803-b6f79c46847b",
   "metadata": {},
   "outputs": [
    {
     "name": "stdout",
     "output_type": "stream",
     "text": [
      " Base transaccional creada (formato larga):\n",
      "    ticket_id     producto\n",
      "0           1       Router\n",
      "1           1   Smartphone\n",
      "2           1       Laptop\n",
      "3           1      Monitor\n",
      "4           2       Tablet\n",
      "5           2      Teclado\n",
      "6           2       Laptop\n",
      "7           3   Smartphone\n",
      "8           3       Tablet\n",
      "9           3       Webcam\n",
      "10          3    Impresora\n",
      "11          4       Router\n",
      "12          4        Mouse\n",
      "13          4  Auriculares\n",
      "14          5       Laptop\n",
      "15          5  Auriculares\n",
      "16          5      Teclado\n",
      "17          5       Webcam\n",
      "18          6       Tablet\n",
      "19          6       Router\n"
     ]
    },
    {
     "data": {
      "text/html": [
       "<div>\n",
       "<style scoped>\n",
       "    .dataframe tbody tr th:only-of-type {\n",
       "        vertical-align: middle;\n",
       "    }\n",
       "\n",
       "    .dataframe tbody tr th {\n",
       "        vertical-align: top;\n",
       "    }\n",
       "\n",
       "    .dataframe thead th {\n",
       "        text-align: right;\n",
       "    }\n",
       "</style>\n",
       "<table border=\"1\" class=\"dataframe\">\n",
       "  <thead>\n",
       "    <tr style=\"text-align: right;\">\n",
       "      <th></th>\n",
       "      <th>ticket_id</th>\n",
       "      <th>producto</th>\n",
       "    </tr>\n",
       "  </thead>\n",
       "  <tbody>\n",
       "    <tr>\n",
       "      <th>0</th>\n",
       "      <td>1</td>\n",
       "      <td>Router</td>\n",
       "    </tr>\n",
       "    <tr>\n",
       "      <th>1</th>\n",
       "      <td>1</td>\n",
       "      <td>Smartphone</td>\n",
       "    </tr>\n",
       "    <tr>\n",
       "      <th>2</th>\n",
       "      <td>1</td>\n",
       "      <td>Laptop</td>\n",
       "    </tr>\n",
       "    <tr>\n",
       "      <th>3</th>\n",
       "      <td>1</td>\n",
       "      <td>Monitor</td>\n",
       "    </tr>\n",
       "    <tr>\n",
       "      <th>4</th>\n",
       "      <td>2</td>\n",
       "      <td>Tablet</td>\n",
       "    </tr>\n",
       "    <tr>\n",
       "      <th>5</th>\n",
       "      <td>2</td>\n",
       "      <td>Teclado</td>\n",
       "    </tr>\n",
       "    <tr>\n",
       "      <th>6</th>\n",
       "      <td>2</td>\n",
       "      <td>Laptop</td>\n",
       "    </tr>\n",
       "    <tr>\n",
       "      <th>7</th>\n",
       "      <td>3</td>\n",
       "      <td>Smartphone</td>\n",
       "    </tr>\n",
       "    <tr>\n",
       "      <th>8</th>\n",
       "      <td>3</td>\n",
       "      <td>Tablet</td>\n",
       "    </tr>\n",
       "    <tr>\n",
       "      <th>9</th>\n",
       "      <td>3</td>\n",
       "      <td>Webcam</td>\n",
       "    </tr>\n",
       "  </tbody>\n",
       "</table>\n",
       "</div>"
      ],
      "text/plain": [
       "   ticket_id    producto\n",
       "0          1      Router\n",
       "1          1  Smartphone\n",
       "2          1      Laptop\n",
       "3          1     Monitor\n",
       "4          2      Tablet\n",
       "5          2     Teclado\n",
       "6          2      Laptop\n",
       "7          3  Smartphone\n",
       "8          3      Tablet\n",
       "9          3      Webcam"
      ]
     },
     "metadata": {},
     "output_type": "display_data"
    },
    {
     "data": {
      "text/plain": [
       "(None, None)"
      ]
     },
     "execution_count": 24,
     "metadata": {},
     "output_type": "execute_result"
    }
   ],
   "source": [
    "# REGLAS DE ASOCIACIÓN - TIENDA DE TECNOLOGÍA\n",
    "\n",
    "\n",
    "# 1. Importar librerías\n",
    "\n",
    "import pandas as pd\n",
    "import numpy as np\n",
    "from mlxtend.frequent_patterns import apriori, association_rules\n",
    "\n",
    "# 4.1.1. Crear base de datos transaccional simulada\n",
    "\n",
    "np.random.seed(42)\n",
    "\n",
    "# Definir productos de la tienda (≥12 ítems)\n",
    "productos = [\n",
    "    'Laptop', 'Mouse', 'Teclado', 'Monitor', 'Impresora', 'Auriculares',\n",
    "    'Webcam', 'USB', 'Disco_Duro', 'Router', 'Tablet', 'Smartphone'\n",
    "]\n",
    "\n",
    "n_transacciones = 200  # ≥200 transacciones\n",
    "\n",
    "# Crear lista de transacciones\n",
    "transacciones = []\n",
    "for t in range(1, n_transacciones + 1):\n",
    "    n_items = np.random.randint(1, 6)  # cada ticket compra entre 1 y 5 productos\n",
    "    items = list(np.random.choice(productos, size=n_items, replace=False))\n",
    "    transacciones.append([t, items])\n",
    "\n",
    "# Convertir a DataFrame \"larga\" (ticket_id, producto)\n",
    "df_long = pd.DataFrame([(t[0], item) for t in transacciones for item in t[1]],\n",
    "                       columns=['ticket_id', 'producto'])\n",
    "\n",
    "print(\" Base transaccional creada (formato larga):\")\n",
    "print(df_long.head(20)), display(df_long.head(10))"
   ]
  },
  {
   "cell_type": "code",
   "execution_count": 28,
   "id": "6f0b6324-83d9-4b64-bbb1-dbadc8d43155",
   "metadata": {},
   "outputs": [
    {
     "name": "stdout",
     "output_type": "stream",
     "text": [
      "\n",
      " Datos convertidos a formato one-hot:\n",
      "producto   Auriculares  Disco_Duro  Impresora  Laptop  Monitor  Mouse  Router  \\\n",
      "ticket_id                                                                       \n",
      "1                    0           0          0       1        1      0       1   \n",
      "2                    0           0          0       1        0      0       0   \n",
      "3                    0           0          1       0        0      0       0   \n",
      "4                    1           0          0       0        0      1       1   \n",
      "5                    1           0          0       1        0      0       0   \n",
      "\n",
      "producto   Smartphone  Tablet  Teclado  USB  Webcam  \n",
      "ticket_id                                            \n",
      "1                   1       0        0    0       0  \n",
      "2                   0       1        1    0       0  \n",
      "3                   1       1        0    0       1  \n",
      "4                   0       0        0    0       0  \n",
      "5                   0       0        1    0       1  \n",
      "\n",
      " Ítems frecuentes encontrados (soporte ≥ 0.05):\n",
      "    support                  itemsets\n",
      "6     0.290                  (Router)\n",
      "7     0.285              (Smartphone)\n",
      "1     0.285              (Disco_Duro)\n",
      "10    0.280                     (USB)\n",
      "0     0.270             (Auriculares)\n",
      "..      ...                       ...\n",
      "56    0.050      (Router, Smartphone)\n",
      "43    0.050          (Mouse, Monitor)\n",
      "49    0.050         (Webcam, Monitor)\n",
      "66    0.050             (Tablet, USB)\n",
      "12    0.050  (Auriculares, Impresora)\n",
      "\n",
      "[71 rows x 2 columns]\n",
      "\n",
      " Reglas de asociación generadas (lift ≥ 1.2):\n",
      "     antecedents    consequents  support  confidence      lift\n",
      "6      (Teclado)          (USB)    0.115    0.425926  1.521164\n",
      "7          (USB)      (Teclado)    0.115    0.410714  1.521164\n",
      "0  (Auriculares)       (Laptop)    0.085    0.314815  1.368760\n",
      "1       (Laptop)  (Auriculares)    0.085    0.369565  1.368760\n",
      "4        (Mouse)       (Webcam)    0.080    0.326531  1.280512\n",
      "5       (Webcam)        (Mouse)    0.080    0.313725  1.280512\n",
      "2       (Laptop)    (Impresora)    0.065    0.282609  1.202590\n",
      "3    (Impresora)       (Laptop)    0.065    0.276596  1.202590\n"
     ]
    },
    {
     "name": "stderr",
     "output_type": "stream",
     "text": [
      "C:\\Users\\User\\AppData\\Local\\Temp\\ipykernel_17236\\2432865131.py:7: FutureWarning: DataFrame.applymap has been deprecated. Use DataFrame.map instead.\n",
      "  df_onehot = df_onehot.applymap(lambda x: 1 if x > 0 else 0)\n",
      "C:\\ProgramData\\anaconda3\\Lib\\site-packages\\mlxtend\\frequent_patterns\\fpcommon.py:161: DeprecationWarning: DataFrames with non-bool types result in worse computationalperformance and their support might be discontinued in the future.Please use a DataFrame with bool type\n",
      "  warnings.warn(\n"
     ]
    }
   ],
   "source": [
    "# 4.1.2. Convertir a formato one-hot (canónico)\n",
    "\n",
    "df_onehot = df_long.groupby(['ticket_id', 'producto'])['producto'] \\\n",
    "                   .count().unstack().fillna(0)\n",
    "\n",
    "# Convertir a 0/1\n",
    "df_onehot = df_onehot.applymap(lambda x: 1 if x > 0 else 0)\n",
    "\n",
    "print(\"\\n Datos convertidos a formato one-hot:\")\n",
    "print(df_onehot.head())\n",
    "\n",
    "\n",
    "# 4.1.3. Aplicar Apriori para encontrar ítems frecuentes\n",
    "\n",
    "min_support = 0.05  # ejemplo: al menos 5% de las transacciones\n",
    "frequent_itemsets = apriori(df_onehot, min_support=min_support, use_colnames=True)\n",
    "\n",
    "print(\"\\n Ítems frecuentes encontrados (soporte ≥ 0.05):\")\n",
    "print(frequent_itemsets.sort_values(by='support', ascending=False))\n",
    "\n",
    "\n",
    "#  Generar reglas de asociación\n",
    "\n",
    "rules = association_rules(frequent_itemsets, metric='lift', min_threshold=1.2)\n",
    "\n",
    "print(\"\\n Reglas de asociación generadas (lift ≥ 1.2):\")\n",
    "print(rules[['antecedents', 'consequents', 'support', 'confidence', 'lift']].sort_values(by='lift', ascending=False))"
   ]
  },
  {
   "cell_type": "markdown",
   "id": "2158d9c1-4b5b-4ab7-8f59-1964a9b177fc",
   "metadata": {},
   "source": [
    "### Construcción de la base transaccional\n",
    "\n",
    "**Se creó (o cargó) una tabla tipo “largo” donde cada fila es (ticket_id, producto) — cada ticket aparece tantas veces como productos compró.\n",
    "Luego se transformó a formato one-hot (cada fila = ticket, cada columna = producto, valor True si el ticket contiene el producto, False en caso contrario). Es importante que los valores sean booleanos porque mlxtend lo recomienda para eficiencia.\n",
    "Cálculo de itemsets frecuentes (algoritmo Apriori)**"
   ]
  },
  {
   "cell_type": "markdown",
   "id": "32f34f55-20fa-4f49-96b2-9013a60f498b",
   "metadata": {},
   "source": [
    "## 4.2 Minería de reglas "
   ]
  },
  {
   "cell_type": "code",
   "execution_count": 29,
   "id": "f16f08c4-9eee-4d3e-8536-55a7d00dc194",
   "metadata": {},
   "outputs": [
    {
     "name": "stdout",
     "output_type": "stream",
     "text": [
      "\n",
      "✅ Datos convertidos a formato one-hot (booleanos):\n",
      "producto   Auriculares  Disco_Duro  Impresora  Laptop  Monitor  Mouse  Router  \\\n",
      "ticket_id                                                                       \n",
      "1                False       False      False    True     True  False    True   \n",
      "2                False       False      False    True    False  False   False   \n",
      "3                False       False       True   False    False  False   False   \n",
      "4                 True       False      False   False    False   True    True   \n",
      "5                 True       False      False    True    False  False   False   \n",
      "\n",
      "producto   Smartphone  Tablet  Teclado    USB  Webcam  \n",
      "ticket_id                                              \n",
      "1                True   False    False  False   False  \n",
      "2               False    True     True  False   False  \n",
      "3                True    True    False  False    True  \n",
      "4               False   False    False  False   False  \n",
      "5               False   False     True  False    True  \n",
      "\n",
      "---- Ejecutando Apriori con min_support=0.02 y min_threshold=0.3 ----\n",
      "Reglas encontradas con soporte ≥ 0.02 y confianza ≥ 0.3:\n",
      "                       antecedents     consequents  support  confidence  \\\n",
      "178            (Disco_Duro, Mouse)  (Teclado, USB)    0.020    0.444444   \n",
      "175   (Disco_Duro, Mouse, Teclado)           (USB)    0.020    1.000000   \n",
      "170  (Webcam, Auriculares, Router)           (USB)    0.020    0.800000   \n",
      "171     (Webcam, Auriculares, USB)        (Router)    0.020    0.800000   \n",
      "173     (Auriculares, Router, USB)        (Webcam)    0.020    0.666667   \n",
      "..                             ...             ...      ...         ...   \n",
      "127              (Router, Monitor)    (Smartphone)    0.020    0.307692   \n",
      "145                (Mouse, Webcam)        (Router)    0.025    0.312500   \n",
      "34           (Tablet, Auriculares)        (Router)    0.025    0.312500   \n",
      "3                         (Laptop)    (Disco_Duro)    0.070    0.304348   \n",
      "8                          (Mouse)        (Router)    0.075    0.306122   \n",
      "\n",
      "         lift  \n",
      "178  3.864734  \n",
      "175  3.571429  \n",
      "170  2.857143  \n",
      "171  2.758621  \n",
      "173  2.614379  \n",
      "..        ...  \n",
      "127  1.079622  \n",
      "145  1.077586  \n",
      "34   1.077586  \n",
      "3    1.067887  \n",
      "8    1.055595  \n",
      "\n",
      "[179 rows x 5 columns]\n",
      "\n",
      "🔍 Regla con antecedente > 1 ítem encontrada:\n",
      "            antecedents    consequents  support  confidence      lift\n",
      "19  (Tablet, Impresora)  (Auriculares)     0.02    0.333333  1.234568\n",
      "\n",
      "---- Ejecutando Apriori con min_support=0.02 y min_threshold=0.5 ----\n",
      "Reglas encontradas con soporte ≥ 0.02 y confianza ≥ 0.5:\n",
      "                      antecedents    consequents  support  confidence  \\\n",
      "17   (Disco_Duro, Mouse, Teclado)          (USB)    0.020    1.000000   \n",
      "12  (Webcam, Auriculares, Router)          (USB)    0.020    0.800000   \n",
      "13     (Webcam, Auriculares, USB)       (Router)    0.020    0.800000   \n",
      "15     (Auriculares, Router, USB)       (Webcam)    0.020    0.666667   \n",
      "16       (Disco_Duro, Mouse, USB)      (Teclado)    0.020    0.666667   \n",
      "14          (Webcam, Router, USB)  (Auriculares)    0.020    0.666667   \n",
      "0             (Disco_Duro, Mouse)          (USB)    0.030    0.666667   \n",
      "8                    (Mouse, USB)      (Teclado)    0.045    0.642857   \n",
      "6                  (USB, Monitor)      (Teclado)    0.040    0.615385   \n",
      "5              (Teclado, Monitor)          (USB)    0.040    0.615385   \n",
      "7                (Mouse, Teclado)          (USB)    0.045    0.600000   \n",
      "18     (Disco_Duro, USB, Teclado)        (Mouse)    0.020    0.500000   \n",
      "4               (Webcam, Monitor)       (Tablet)    0.025    0.500000   \n",
      "1           (Disco_Duro, Teclado)          (USB)    0.040    0.533333   \n",
      "3                (USB, Impresora)      (Teclado)    0.020    0.500000   \n",
      "11              (Teclado, Webcam)          (USB)    0.030    0.500000   \n",
      "10               (Tablet, Webcam)       (Router)    0.030    0.500000   \n",
      "2                (USB, Impresora)       (Router)    0.020    0.500000   \n",
      "9                   (Tablet, USB)       (Router)    0.025    0.500000   \n",
      "\n",
      "        lift  \n",
      "17  3.571429  \n",
      "12  2.857143  \n",
      "13  2.758621  \n",
      "15  2.614379  \n",
      "16  2.469136  \n",
      "14  2.469136  \n",
      "0   2.380952  \n",
      "8   2.380952  \n",
      "6   2.279202  \n",
      "5   2.197802  \n",
      "7   2.142857  \n",
      "18  2.040816  \n",
      "4   2.000000  \n",
      "1   1.904762  \n",
      "3   1.851852  \n",
      "11  1.785714  \n",
      "10  1.724138  \n",
      "2   1.724138  \n",
      "9   1.724138  \n",
      "\n",
      "🔍 Regla con antecedente > 1 ítem encontrada:\n",
      "           antecedents consequents  support  confidence      lift\n",
      "0  (Disco_Duro, Mouse)       (USB)     0.03    0.666667  2.380952\n",
      "\n",
      "---- Ejecutando Apriori con min_support=0.02 y min_threshold=0.8 ----\n",
      "Reglas encontradas con soporte ≥ 0.02 y confianza ≥ 0.8:\n",
      "                    antecedents consequents  support  confidence      lift\n",
      "0  (Disco_Duro, Mouse, Teclado)       (USB)     0.02         1.0  3.571429\n",
      "\n",
      "🔍 Regla con antecedente > 1 ítem encontrada:\n",
      "                    antecedents consequents  support  confidence      lift\n",
      "0  (Disco_Duro, Mouse, Teclado)       (USB)     0.02         1.0  3.571429\n",
      "\n",
      "---- Ejecutando Apriori con min_support=0.05 y min_threshold=0.3 ----\n",
      "Reglas encontradas con soporte ≥ 0.05 y confianza ≥ 0.3:\n",
      "      antecedents    consequents  support  confidence      lift\n",
      "17          (USB)      (Teclado)    0.115    0.410714  1.521164\n",
      "16      (Teclado)          (USB)    0.115    0.425926  1.521164\n",
      "0   (Auriculares)       (Laptop)    0.085    0.314815  1.368760\n",
      "1        (Laptop)  (Auriculares)    0.085    0.369565  1.368760\n",
      "11       (Webcam)        (Mouse)    0.080    0.313725  1.280512\n",
      "10        (Mouse)       (Webcam)    0.080    0.326531  1.280512\n",
      "2        (Tablet)  (Auriculares)    0.080    0.320000  1.185185\n",
      "13       (Router)          (USB)    0.095    0.327586  1.169951\n",
      "14          (USB)       (Router)    0.095    0.339286  1.169951\n",
      "9         (Mouse)      (Teclado)    0.075    0.306122  1.133787\n",
      "5           (USB)   (Disco_Duro)    0.090    0.321429  1.127820\n",
      "4    (Disco_Duro)          (USB)    0.090    0.315789  1.127820\n",
      "6        (Laptop)      (Teclado)    0.070    0.304348  1.127214\n",
      "18       (Webcam)          (USB)    0.080    0.313725  1.120448\n",
      "12      (Teclado)       (Router)    0.085    0.314815  1.085568\n",
      "15       (Webcam)       (Router)    0.080    0.313725  1.081812\n",
      "7       (Monitor)   (Smartphone)    0.080    0.307692  1.079622\n",
      "3        (Laptop)   (Disco_Duro)    0.070    0.304348  1.067887\n",
      "8         (Mouse)       (Router)    0.075    0.306122  1.055595\n",
      "❌ No se encontraron reglas con antecedente > 1 ítem para estos parámetros.\n",
      "\n",
      "\n",
      "---- Ejecutando Apriori con min_support=0.05 y min_threshold=0.5 ----\n",
      "Reglas encontradas con soporte ≥ 0.05 y confianza ≥ 0.5:\n",
      "Empty DataFrame\n",
      "Columns: [antecedents, consequents, support, confidence, lift]\n",
      "Index: []\n",
      "❌ No se encontraron reglas con antecedente > 1 ítem para estos parámetros.\n",
      "\n",
      "\n",
      "---- Ejecutando Apriori con min_support=0.05 y min_threshold=0.8 ----\n",
      "Reglas encontradas con soporte ≥ 0.05 y confianza ≥ 0.8:\n",
      "Empty DataFrame\n",
      "Columns: [antecedents, consequents, support, confidence, lift]\n",
      "Index: []\n",
      "❌ No se encontraron reglas con antecedente > 1 ítem para estos parámetros.\n",
      "\n",
      "\n",
      "---- Ejecutando Apriori con min_support=0.1 y min_threshold=0.3 ----\n",
      "Reglas encontradas con soporte ≥ 0.1 y confianza ≥ 0.3:\n",
      "  antecedents consequents  support  confidence      lift\n",
      "0   (Teclado)       (USB)    0.115    0.425926  1.521164\n",
      "1       (USB)   (Teclado)    0.115    0.410714  1.521164\n",
      "❌ No se encontraron reglas con antecedente > 1 ítem para estos parámetros.\n",
      "\n",
      "\n",
      "---- Ejecutando Apriori con min_support=0.1 y min_threshold=0.5 ----\n",
      "Reglas encontradas con soporte ≥ 0.1 y confianza ≥ 0.5:\n",
      "Empty DataFrame\n",
      "Columns: [antecedents, consequents, support, confidence, lift]\n",
      "Index: []\n",
      "❌ No se encontraron reglas con antecedente > 1 ítem para estos parámetros.\n",
      "\n",
      "\n",
      "---- Ejecutando Apriori con min_support=0.1 y min_threshold=0.8 ----\n",
      "Reglas encontradas con soporte ≥ 0.1 y confianza ≥ 0.8:\n",
      "Empty DataFrame\n",
      "Columns: [antecedents, consequents, support, confidence, lift]\n",
      "Index: []\n",
      "❌ No se encontraron reglas con antecedente > 1 ítem para estos parámetros.\n",
      "\n"
     ]
    }
   ],
   "source": [
    "# Convertir a formato one-hot (canónico) y asegurarse de que sean valores booleanos\n",
    "df_onehot = df_long.groupby(['ticket_id', 'producto'])['producto'] \\\n",
    "                   .count().unstack().fillna(0)\n",
    "\n",
    "# Convertir los valores a booleanos (True/False)\n",
    "df_onehot = df_onehot > 0  # Esto convierte los 1 y 0 a True/False\n",
    "\n",
    "# Ver los datos convertidos a formato one-hot\n",
    "print(\"\\n✅ Datos convertidos a formato one-hot (booleanos):\")\n",
    "print(df_onehot.head())\n",
    "\n",
    "\n",
    "# 1. Aplicar Apriori con diferentes valores de min_support\n",
    "\n",
    "min_support_values = [0.02, 0.05, 0.10]  # Pruebando con varios valores de min_support\n",
    "min_threshold_values = [0.3, 0.5, 0.8]  # Pruebando con diferentes valores de confianza (min_threshold)\n",
    "\n",
    "# Recorrer cada combinación de min_support y min_threshold\n",
    "for min_support in min_support_values:\n",
    "    for min_threshold in min_threshold_values:\n",
    "        print(f\"\\n---- Ejecutando Apriori con min_support={min_support} y min_threshold={min_threshold} ----\")\n",
    "        \n",
    "        # Obtener ítems frecuentes\n",
    "        frequent_itemsets = apriori(df_onehot, min_support=min_support, use_colnames=True)\n",
    "        \n",
    "        # Generar reglas de asociación\n",
    "        rules = association_rules(frequent_itemsets, metric='confidence', min_threshold=min_threshold)\n",
    "        \n",
    "        # Mostrar las reglas que cumplen con el min_threshold\n",
    "        print(f\"Reglas encontradas con soporte ≥ {min_support} y confianza ≥ {min_threshold}:\")\n",
    "        print(rules[['antecedents', 'consequents', 'support', 'confidence', 'lift']].sort_values(by='lift', ascending=False))\n",
    "\n",
    "      \n",
    "        # 2. Regla con antecedente > 1 ítem\n",
    "\n",
    "        reglas_antecedente_multiples_items = rules[rules['antecedents'].apply(lambda x: len(x) > 1)]\n",
    "        \n",
    "        if not reglas_antecedente_multiples_items.empty:\n",
    "            print(\"\\n🔍 Regla con antecedente > 1 ítem encontrada:\")\n",
    "            print(reglas_antecedente_multiples_items[['antecedents', 'consequents', 'support', 'confidence', 'lift']].head(1))\n",
    "        else:\n",
    "            print(\"❌ No se encontraron reglas con antecedente > 1 ítem para estos parámetros.\\n\")\n"
   ]
  },
  {
   "cell_type": "markdown",
   "id": "c5a24c2c-3781-450d-a5ad-931784290970",
   "metadata": {},
   "source": [
    "**Este enfoque nos permitirá explorar cómo cambiar los parámetros impacta la cantidad y la calidad de las reglas encontradas. Al finalizar, tendrás reglas más robustas y significativas, algunas de las cuales pueden tener antecedentes con múltiples ítems. No se encontraron reglas con antecedente >1 item para los parametros utilizados**"
   ]
  },
  {
   "cell_type": "markdown",
   "id": "9f8ed8f9-0660-49dc-822f-ccbee4b2f99d",
   "metadata": {},
   "source": [
    "# 4.3 Explicación de soporte y confianza (cálculo numérico) "
   ]
  },
  {
   "cell_type": "code",
   "execution_count": 31,
   "id": "9b0715ab-7a0e-452c-8d80-41512902badd",
   "metadata": {},
   "outputs": [
    {
     "name": "stdout",
     "output_type": "stream",
     "text": [
      "Cálculo manual de soporte y confianza\n",
      "Total de transacciones: 200\n",
      "Transacciones con A (Laptop+Mouse): 9\n",
      "Transacciones con A∪B (Laptop+Mouse+Teclado): 2\n",
      "Soporte (manual): 0.0100\n",
      "Confianza (manual): 0.2222\n"
     ]
    }
   ],
   "source": [
    "# Verificación manual de una regla de asociación\n",
    "# Regla: {Laptop, Mouse} ⇒ {Teclado}\n",
    "\n",
    "\n",
    "# Total de transacciones\n",
    "n_total = len(df_onehot)\n",
    "\n",
    "# Transacciones que contienen A (Laptop y Mouse)\n",
    "A = df_onehot[(df_onehot['Laptop']) & (df_onehot['Mouse'])]\n",
    "\n",
    "# Transacciones que contienen A ∪ B (Laptop, Mouse y Teclado)\n",
    "A_union_B = df_onehot[(df_onehot['Laptop']) & \n",
    "                      (df_onehot['Mouse']) & \n",
    "                      (df_onehot['Teclado'])]\n",
    "\n",
    "# Cálculos\n",
    "support_manual = len(A_union_B) / n_total\n",
    "confidence_manual = len(A_union_B) / len(A)\n",
    "\n",
    "# Resultados\n",
    "print(\"Cálculo manual de soporte y confianza\")\n",
    "print(\"Total de transacciones:\", n_total)\n",
    "print(\"Transacciones con A (Laptop+Mouse):\", len(A))\n",
    "print(\"Transacciones con A∪B (Laptop+Mouse+Teclado):\", len(A_union_B))\n",
    "print(f\"Soporte (manual): {support_manual:.4f}\")\n",
    "print(f\"Confianza (manual): {confidence_manual:.4f}\")\n"
   ]
  },
  {
   "cell_type": "markdown",
   "id": "47a19d27-9d8d-4060-a987-1100884c3d54",
   "metadata": {},
   "source": [
    "### # Verificación manual + comparación con association_rules Regla: {Laptop, Mouse} ⇒ {Teclado}"
   ]
  },
  {
   "cell_type": "code",
   "execution_count": 32,
   "id": "586358a5-0fb6-4e61-9b1c-e3c8eb9fee41",
   "metadata": {},
   "outputs": [
    {
     "name": "stdout",
     "output_type": "stream",
     "text": [
      "Cálculo manual\n",
      "Total de transacciones: 200\n",
      "Transacciones con A (Laptop+Mouse): 9\n",
      "Transacciones con A∪B (Laptop+Mouse+Teclado): 2\n",
      "Soporte (manual): 0.0100\n",
      "Confianza (manual): 0.2222\n",
      "\n",
      "Valores desde association_rules\n"
     ]
    },
    {
     "data": {
      "text/html": [
       "<div>\n",
       "<style scoped>\n",
       "    .dataframe tbody tr th:only-of-type {\n",
       "        vertical-align: middle;\n",
       "    }\n",
       "\n",
       "    .dataframe tbody tr th {\n",
       "        vertical-align: top;\n",
       "    }\n",
       "\n",
       "    .dataframe thead th {\n",
       "        text-align: right;\n",
       "    }\n",
       "</style>\n",
       "<table border=\"1\" class=\"dataframe\">\n",
       "  <thead>\n",
       "    <tr style=\"text-align: right;\">\n",
       "      <th></th>\n",
       "      <th>antecedents</th>\n",
       "      <th>consequents</th>\n",
       "      <th>support</th>\n",
       "      <th>confidence</th>\n",
       "    </tr>\n",
       "  </thead>\n",
       "  <tbody>\n",
       "  </tbody>\n",
       "</table>\n",
       "</div>"
      ],
      "text/plain": [
       "Empty DataFrame\n",
       "Columns: [antecedents, consequents, support, confidence]\n",
       "Index: []"
      ]
     },
     "metadata": {},
     "output_type": "display_data"
    }
   ],
   "source": [
    "from mlxtend.frequent_patterns import association_rules\n",
    "\n",
    "# 1. Obtener todas las reglas con min_confidence bajo (para que aparezca nuestra regla)\n",
    "rules = association_rules(frequent_itemsets, metric=\"confidence\", min_threshold=0.3)\n",
    "\n",
    "# 2. Filtrar la regla de interés\n",
    "target_rule = rules[\n",
    "    (rules['antecedents'] == {'Laptop','Mouse'}) & \n",
    "    (rules['consequents'] == {'Teclado'})\n",
    "]\n",
    "\n",
    "# 3. Cálculo manual\n",
    "n_total = len(df_onehot)\n",
    "\n",
    "# Transacciones con A (Laptop y Mouse)\n",
    "A = df_onehot[(df_onehot['Laptop']) & (df_onehot['Mouse'])]\n",
    "\n",
    "# Transacciones con A ∪ B (Laptop, Mouse y Teclado)\n",
    "A_union_B = df_onehot[(df_onehot['Laptop']) & \n",
    "                      (df_onehot['Mouse']) & \n",
    "                      (df_onehot['Teclado'])]\n",
    "\n",
    "support_manual = len(A_union_B) / n_total\n",
    "confidence_manual = len(A_union_B) / len(A)\n",
    "\n",
    "# 4. Mostrar resultados\n",
    "print(\"Cálculo manual\")\n",
    "print(\"Total de transacciones:\", n_total)\n",
    "print(\"Transacciones con A (Laptop+Mouse):\", len(A))\n",
    "print(\"Transacciones con A∪B (Laptop+Mouse+Teclado):\", len(A_union_B))\n",
    "print(f\"Soporte (manual): {support_manual:.4f}\")\n",
    "print(f\"Confianza (manual): {confidence_manual:.4f}\\n\")\n",
    "\n",
    "print(\"Valores desde association_rules\")\n",
    "display(target_rule[['antecedents','consequents','support','confidence']])"
   ]
  },
  {
   "cell_type": "markdown",
   "id": "62b9c3f8-cb7d-4fda-b407-89befec04f78",
   "metadata": {},
   "source": [
    "### Tabla con las mejores reglas (antecedente, consecuente, soporte, confianza, lift)."
   ]
  },
  {
   "cell_type": "code",
   "execution_count": 33,
   "id": "87b3bab7-e2f5-41df-8c4e-20eba8cb089b",
   "metadata": {},
   "outputs": [
    {
     "name": "stdout",
     "output_type": "stream",
     "text": [
      " Mejores reglas de asociación\n"
     ]
    },
    {
     "data": {
      "text/html": [
       "<div>\n",
       "<style scoped>\n",
       "    .dataframe tbody tr th:only-of-type {\n",
       "        vertical-align: middle;\n",
       "    }\n",
       "\n",
       "    .dataframe tbody tr th {\n",
       "        vertical-align: top;\n",
       "    }\n",
       "\n",
       "    .dataframe thead th {\n",
       "        text-align: right;\n",
       "    }\n",
       "</style>\n",
       "<table border=\"1\" class=\"dataframe\">\n",
       "  <thead>\n",
       "    <tr style=\"text-align: right;\">\n",
       "      <th></th>\n",
       "      <th>antecedents</th>\n",
       "      <th>consequents</th>\n",
       "      <th>support</th>\n",
       "      <th>confidence</th>\n",
       "      <th>lift</th>\n",
       "    </tr>\n",
       "  </thead>\n",
       "  <tbody>\n",
       "    <tr>\n",
       "      <th>0</th>\n",
       "      <td>(Teclado)</td>\n",
       "      <td>(USB)</td>\n",
       "      <td>0.115</td>\n",
       "      <td>0.425926</td>\n",
       "      <td>1.521164</td>\n",
       "    </tr>\n",
       "    <tr>\n",
       "      <th>1</th>\n",
       "      <td>(USB)</td>\n",
       "      <td>(Teclado)</td>\n",
       "      <td>0.115</td>\n",
       "      <td>0.410714</td>\n",
       "      <td>1.521164</td>\n",
       "    </tr>\n",
       "  </tbody>\n",
       "</table>\n",
       "</div>"
      ],
      "text/plain": [
       "  antecedents consequents  support  confidence      lift\n",
       "0   (Teclado)       (USB)    0.115    0.425926  1.521164\n",
       "1       (USB)   (Teclado)    0.115    0.410714  1.521164"
      ]
     },
     "metadata": {},
     "output_type": "display_data"
    }
   ],
   "source": [
    "# Tabla con las mejores reglas\n",
    "\n",
    "from mlxtend.frequent_patterns import association_rules\n",
    "\n",
    "# Generar reglas a partir de los itemsets frecuentes\n",
    "rules = association_rules(frequent_itemsets, metric=\"confidence\", min_threshold=0.3)\n",
    "\n",
    "# Ordenar por confianza y lift para ver las mejores\n",
    "best_rules = rules.sort_values(by=[\"confidence\",\"lift\"], ascending=False)\n",
    "\n",
    "# Seleccionar solo las columnas de interés\n",
    "best_rules_table = best_rules[['antecedents','consequents','support','confidence','lift']]\n",
    "\n",
    "# Mostrar top de reglas\n",
    "print(\" Mejores reglas de asociación\")\n",
    "display(best_rules_table.head(10))"
   ]
  },
  {
   "cell_type": "markdown",
   "id": "af9d66aa-2031-42a6-a357-7477777f6f11",
   "metadata": {},
   "source": [
    "### Construcción de la base transaccional\n",
    "\n",
    "**Se creó (o cargó) una tabla tipo “largo” donde cada fila es (ticket_id, producto) — cada ticket aparece tantas veces como productos compró.\n",
    "Luego se transformó a formato one-hot (cada fila = ticket, cada columna = producto, valor True si el ticket contiene el producto, False en caso contrario). Es importante que los valores sean booleanos porque mlxtend lo recomienda para eficiencia.**\n",
    "\n",
    "### Cálculo de itemsets frecuentes (algoritmo Apriori)\n",
    "\n",
    "**Se ejecutó apriori(df_onehot, min_support=...) con un umbral de soporte elegido (ej.: 0.02, 0.05, 0.10 probados).\n",
    "Apriori busca todos los conjuntos de ítems cuya frecuencia (soporte) supera el umbral y devuelve una tabla frequent_itemsets con cada itemset y su support.**\n",
    "\n",
    "### Generación de reglas (association_rules)\n",
    "\n",
    "**A partir de frequent_itemsets se llamó a association_rules(..., metric='confidence', min_threshold=...) para generar reglas de la forma A ⇒ B y calcular las métricas (support, confidence, lift). min_threshold (ej. 0.3) controla el umbral mínimo de la métrica usada (en el ejemplo, confianza mínima).**\n",
    "\n",
    "### Filtrado y ordenamiento\n",
    "\n",
    "**Se filtraron y ordenaron las reglas por criterios de interés (por ejemplo por confidence y luego por lift) para obtener las “mejores” reglas que se muestran en la tabla final.**"
   ]
  },
  {
   "cell_type": "markdown",
   "id": "e04ab9ef-ebdd-4b19-bff7-373101a3c723",
   "metadata": {},
   "source": [
    "# Conclusión General \n",
    "\n",
    "**En la primera parte, trabajamos con clustering no supervisado aplicando diferentes algoritmos (KMeans, MeanShift, AffinityPropagation). Ajustamos hiperparámetros como número de clústeres, ancho de banda o damping, y evaluamos los resultados usando métricas como el silhouette score y la visualización con PCA en 2D.\n",
    "Con estas pruebas comprobamos que, al afinar los parámetros, los modelos lograron grupos más definidos y coherentes, mostrando que el clustering se volvió más robusto y significativo porque reflejó mejor la estructura latente de los datos.**\n",
    "\n",
    "**En la segunda parte, desarrollamos un proceso de minería de reglas de asociación sobre un dataset transaccional simulado de una tienda de tecnología. Aplicamos el algoritmo Apriori con diferentes umbrales de soporte y confianza, generando reglas de la forma “si A, entonces B”.\n",
    "Posteriormente, seleccionamos las mejores reglas según soporte, confianza y lift, organizándolas en una tabla para su análisis. También realizamos un cálculo manual de soporte y confianza sobre una regla con varios ítems en el antecedente, validando los resultados obtenidos automáticamente por la librería.**\n",
    "\n",
    "### **En conjunto, la práctica permitió**\n",
    "\n",
    "**Explorar técnicas no supervisadas para identificar patrones ocultos en los datos. Comparar y afinar algoritmos de clustering para mejorar la calidad de la segmentación. Extraer reglas de asociación interpretables, útiles para la toma de decisiones en un contexto de ventas. Verificar con cálculos manuales que las métricas de soporte y confianza tienen un significado directo en los datos**\n"
   ]
  },
  {
   "cell_type": "code",
   "execution_count": null,
   "id": "5b82dfc3-6b16-46a0-9ae7-4eb67a7946ba",
   "metadata": {},
   "outputs": [],
   "source": []
  }
 ],
 "metadata": {
  "kernelspec": {
   "display_name": "Python 3 (ipykernel)",
   "language": "python",
   "name": "python3"
  },
  "language_info": {
   "codemirror_mode": {
    "name": "ipython",
    "version": 3
   },
   "file_extension": ".py",
   "mimetype": "text/x-python",
   "name": "python",
   "nbconvert_exporter": "python",
   "pygments_lexer": "ipython3",
   "version": "3.12.4"
  }
 },
 "nbformat": 4,
 "nbformat_minor": 5
}
